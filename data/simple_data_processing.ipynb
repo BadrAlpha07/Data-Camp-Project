{
 "cells": [
  {
   "cell_type": "markdown",
   "metadata": {},
   "source": [
    "<center> \n",
    "    <h1> \n",
    "        Data Camp Project"
   ]
  },
  {
   "cell_type": "markdown",
   "metadata": {},
   "source": [
    " <center>\n",
    "    <h1> \n",
    "        Simple Data Pre-Processing"
   ]
  },
  {
   "cell_type": "markdown",
   "metadata": {},
   "source": [
    "<div style=\"text-align: right\">\n",
    "    <em>\n",
    "        Some merging & pre-processing or our raw data to prevent polluting the notebook presenting the challenge\n",
    "    </em>\n",
    "</div>"
   ]
  },
  {
   "cell_type": "code",
   "execution_count": 2,
   "metadata": {},
   "outputs": [],
   "source": [
    "import pandas as pd"
   ]
  },
  {
   "cell_type": "markdown",
   "metadata": {},
   "source": [
    "### Loading raw data"
   ]
  },
  {
   "cell_type": "code",
   "execution_count": 3,
   "metadata": {},
   "outputs": [],
   "source": [
    "raw_data = pd.read_csv(r'C:\\Users\\basti\\DataCamp\\Projet_Groupe_vclean\\data\\2_raw_data\\raw_final_dataset.csv')"
   ]
  },
  {
   "cell_type": "markdown",
   "metadata": {},
   "source": [
    "### Deleting unecessary columns and renaming useful ones"
   ]
  },
  {
   "cell_type": "code",
   "execution_count": 4,
   "metadata": {},
   "outputs": [
    {
     "name": "stdout",
     "output_type": "stream",
     "text": [
      "(26123, 10)\n"
     ]
    },
    {
     "data": {
      "text/html": [
       "<div>\n",
       "<style scoped>\n",
       "    .dataframe tbody tr th:only-of-type {\n",
       "        vertical-align: middle;\n",
       "    }\n",
       "\n",
       "    .dataframe tbody tr th {\n",
       "        vertical-align: top;\n",
       "    }\n",
       "\n",
       "    .dataframe thead th {\n",
       "        text-align: right;\n",
       "    }\n",
       "</style>\n",
       "<table border=\"1\" class=\"dataframe\">\n",
       "  <thead>\n",
       "    <tr style=\"text-align: right;\">\n",
       "      <th></th>\n",
       "      <th>influencer</th>\n",
       "      <th>pr_activity</th>\n",
       "      <th>num_posts</th>\n",
       "      <th>num_followers</th>\n",
       "      <th>num_followings</th>\n",
       "      <th>post_description</th>\n",
       "      <th>num_comments</th>\n",
       "      <th>num_likes</th>\n",
       "      <th>posting_date</th>\n",
       "      <th>media_type</th>\n",
       "    </tr>\n",
       "  </thead>\n",
       "  <tbody>\n",
       "    <tr>\n",
       "      <th>0</th>\n",
       "      <td>Cristiano Ronaldo</td>\n",
       "      <td>Footballeur</td>\n",
       "      <td>2 982 publications</td>\n",
       "      <td>253 140 888</td>\n",
       "      <td>459</td>\n",
       "      <td>Another week of playing inside and staying act...</td>\n",
       "      <td>22995</td>\n",
       "      <td>15 023 301</td>\n",
       "      <td>2020-04-11T09:02:26.000Z</td>\n",
       "      <td>Video</td>\n",
       "    </tr>\n",
       "    <tr>\n",
       "      <th>1</th>\n",
       "      <td>Cristiano Ronaldo</td>\n",
       "      <td>Footballeur</td>\n",
       "      <td>2 982 publications</td>\n",
       "      <td>253 140 888</td>\n",
       "      <td>459</td>\n",
       "      <td>We wish a Happy Easter to everyone 🌍❤️🙏\\r\\n#st...</td>\n",
       "      <td>62374</td>\n",
       "      <td>9 661 590</td>\n",
       "      <td>2020-04-12T13:18:16.000Z</td>\n",
       "      <td>Photo</td>\n",
       "    </tr>\n",
       "    <tr>\n",
       "      <th>2</th>\n",
       "      <td>Cristiano Ronaldo</td>\n",
       "      <td>Footballeur</td>\n",
       "      <td>2 982 publications</td>\n",
       "      <td>253 140 888</td>\n",
       "      <td>459</td>\n",
       "      <td>.\\r\\n\\r\\nKids, let the Dad do his work 🤷🏻‍♂️❤️...</td>\n",
       "      <td>108402</td>\n",
       "      <td>43 462 083</td>\n",
       "      <td>2020-04-13T12:57:43.000Z</td>\n",
       "      <td>Video</td>\n",
       "    </tr>\n",
       "  </tbody>\n",
       "</table>\n",
       "</div>"
      ],
      "text/plain": [
       "          influencer  pr_activity           num_posts num_followers  \\\n",
       "0  Cristiano Ronaldo  Footballeur  2 982 publications   253 140 888   \n",
       "1  Cristiano Ronaldo  Footballeur  2 982 publications   253 140 888   \n",
       "2  Cristiano Ronaldo  Footballeur  2 982 publications   253 140 888   \n",
       "\n",
       "  num_followings                                   post_description  \\\n",
       "0            459  Another week of playing inside and staying act...   \n",
       "1            459  We wish a Happy Easter to everyone 🌍❤️🙏\\r\\n#st...   \n",
       "2            459  .\\r\\n\\r\\nKids, let the Dad do his work 🤷🏻‍♂️❤️...   \n",
       "\n",
       "   num_comments   num_likes              posting_date media_type  \n",
       "0         22995  15 023 301  2020-04-11T09:02:26.000Z      Video  \n",
       "1         62374   9 661 590  2020-04-12T13:18:16.000Z      Photo  \n",
       "2        108402  43 462 083  2020-04-13T12:57:43.000Z      Video  "
      ]
     },
     "execution_count": 4,
     "metadata": {},
     "output_type": "execute_result"
    }
   ],
   "source": [
    "data_inst = raw_data.drop(columns = ['Links to publication', 'Links to profile', 'Account description',\n",
    "                       'Verified Status'])\n",
    "data_inst.columns = ['influencer','pr_activity','num_posts','num_followers','num_followings','post_description',\n",
    "             'num_comments','num_likes','posting_date','media_type']\n",
    "\n",
    "data_inst = data_inst.reset_index(drop=True)\n",
    "print(data_inst.shape)\n",
    "data_inst.head(3)"
   ]
  },
  {
   "cell_type": "markdown",
   "metadata": {},
   "source": [
    "### Cleaning the rows "
   ]
  },
  {
   "cell_type": "code",
   "execution_count": 5,
   "metadata": {},
   "outputs": [],
   "source": [
    "def clean(row):\n",
    "    return str(row).replace(\",\",\"\").replace(\" \",\"\")\n",
    "\n",
    "data_inst['num_likes'] = data_inst['num_likes'].apply(clean).astype(int)  \n",
    "data_inst['num_comments'] = data_inst['num_comments'].astype(int)\n",
    "data_inst['num_followers'] = data_inst['num_followers'].apply(clean).astype(int)  \n",
    "data_inst['num_followings'] = data_inst['num_followings'].apply(clean).astype(int) \n",
    "data_inst['num_posts'] = data_inst['num_posts'].apply(lambda x : x.replace(\"publications\",\"\"))\n",
    "data_inst['num_posts'] = data_inst['num_posts'].apply(lambda x : x.replace(\"posts\",\"\"))\n",
    "data_inst['num_posts'] = data_inst['num_posts'].apply(clean)"
   ]
  },
  {
   "cell_type": "markdown",
   "metadata": {},
   "source": [
    "### Re-organizing professional activities"
   ]
  },
  {
   "cell_type": "code",
   "execution_count": 6,
   "metadata": {},
   "outputs": [],
   "source": [
    "data_inst['pr_activity'] = data_inst['pr_activity'].apply(lambda x : x.lower())\n",
    "data_inst['pr_activity'] = data_inst['pr_activity'].apply(lambda x : x.replace(' et ',''))\n",
    "data_inst['pr_activity'] = data_inst['pr_activity'].apply(lambda x : x.replace('cienne','cien'))\n",
    "data_inst['pr_activity'] = data_inst['pr_activity'].apply(lambda x : x.replace('trice','teur'))\n",
    "data_inst['pr_activity'] = data_inst['pr_activity'].apply(lambda x : x.replace('comédienne','acteur'))\n",
    "data_inst['pr_activity'] = data_inst['pr_activity'].replace({'footballeur':'Athlete',\n",
    "                                        'joueur de basket-ball':'Athlete','acteur':'Actor',\n",
    "                                        'acteurcatcheur professionnel':'Actor''musicienacteur':'Musician',\n",
    "                                        'joueur de cricket':'Athlete','ex-footballeur':'Athlete',\n",
    "                                        'acteurmusicien':'Actor','modèle':'Model','musicien':'Musician',\n",
    "                                         'personnalité de téléréalitémodèle': 'TV Star',\n",
    "                                         'personnalité de téléréalité':'TV Star'})"
   ]
  },
  {
   "cell_type": "code",
   "execution_count": 7,
   "metadata": {},
   "outputs": [
    {
     "data": {
      "text/plain": [
       "array(['Sportif', 'Musicien/Musicienne', 'Acteur/Actrice',\n",
       "       'Personnalité de téléréalité', 'Marque', 'Modèle', 'réseau social'],\n",
       "      dtype=object)"
      ]
     },
     "execution_count": 7,
     "metadata": {},
     "output_type": "execute_result"
    }
   ],
   "source": [
    "data_inst['pr_activity'].unique()"
   ]
  },
  {
   "cell_type": "markdown",
   "metadata": {},
   "source": [
    "### Deleting brands and institutions"
   ]
  },
  {
   "cell_type": "code",
   "execution_count": 8,
   "metadata": {},
   "outputs": [],
   "source": [
    "data_inst = data_inst[data_inst['pr_activity']!='Marque']\n",
    "data_inst = data_inst[data_inst['pr_activity']!='réseau social']"
   ]
  },
  {
   "cell_type": "code",
   "execution_count": 9,
   "metadata": {},
   "outputs": [
    {
     "data": {
      "text/plain": [
       "(21537, 10)"
      ]
     },
     "execution_count": 9,
     "metadata": {},
     "output_type": "execute_result"
    }
   ],
   "source": [
    "data_inst.shape"
   ]
  },
  {
   "cell_type": "code",
   "execution_count": 10,
   "metadata": {},
   "outputs": [
    {
     "data": {
      "text/plain": [
       "array(['Cristiano Ronaldo', 'Ariana Grande', 'Dwayne Johnson',\n",
       "       'Kylie Jenner', 'Selena Gomez', 'Kim Kardashian', 'Lionel Messi',\n",
       "       'Beyoncé', 'Justin Bieber', 'Kendall Jenner', 'Neymar Jr',\n",
       "       'Taylor Swift', 'Jennifer Lopez', 'Nicki Minaj',\n",
       "       'Khloé Kardashian', 'Miley Cyrus', 'Katy Perry',\n",
       "       'Kourtney Kardashian', 'Kevin Hart', 'Demi Lovato',\n",
       "       'Ellen DeGeneres', 'Rihanna', 'Virat Kohli', 'Zendaya', 'Cardi B',\n",
       "       'LeBron James', 'Chris Brown', 'Drake', 'Shakira', 'Vin Diesel',\n",
       "       'David Beckham', 'Gigi Hadid', 'Justin Timberlake',\n",
       "       'Priyanka Chopra', 'Emma Watson', 'Shawn Mendes', 'Dua Lipa',\n",
       "       'Shraddha Kapoor', 'Maluma', 'Snoop Dogg'], dtype=object)"
      ]
     },
     "execution_count": 10,
     "metadata": {},
     "output_type": "execute_result"
    }
   ],
   "source": [
    "data_inst['influencer'].unique()"
   ]
  },
  {
   "cell_type": "markdown",
   "metadata": {},
   "source": [
    "### Timing features extraction"
   ]
  },
  {
   "cell_type": "code",
   "execution_count": 35,
   "metadata": {},
   "outputs": [],
   "source": [
    "data_inst['posting_date'] = pd.to_datetime(data_inst[\"posting_date\"])\n",
    "data_inst['year'] = data_inst['posting_date'].dt.year\n",
    "data_inst['month'] = data_inst['posting_date'].dt.month\n",
    "data_inst['day'] = data_inst['posting_date'].dt.day\n",
    "data_inst['hour'] = data_inst['posting_date'].dt.hour\n",
    "data_inst['Day_week'] = data_inst['posting_date'].dt.day_name()\n",
    "data_inst = data_inst.drop(columns = ['posting_date'])"
   ]
  },
  {
   "cell_type": "code",
   "execution_count": 37,
   "metadata": {
    "scrolled": false
   },
   "outputs": [
    {
     "name": "stdout",
     "output_type": "stream",
     "text": [
      "(21537, 14)\n"
     ]
    },
    {
     "data": {
      "text/html": [
       "<div>\n",
       "<style scoped>\n",
       "    .dataframe tbody tr th:only-of-type {\n",
       "        vertical-align: middle;\n",
       "    }\n",
       "\n",
       "    .dataframe tbody tr th {\n",
       "        vertical-align: top;\n",
       "    }\n",
       "\n",
       "    .dataframe thead th {\n",
       "        text-align: right;\n",
       "    }\n",
       "</style>\n",
       "<table border=\"1\" class=\"dataframe\">\n",
       "  <thead>\n",
       "    <tr style=\"text-align: right;\">\n",
       "      <th></th>\n",
       "      <th>influencer</th>\n",
       "      <th>pr_activity</th>\n",
       "      <th>num_posts</th>\n",
       "      <th>num_followers</th>\n",
       "      <th>num_followings</th>\n",
       "      <th>post_description</th>\n",
       "      <th>num_comments</th>\n",
       "      <th>num_likes</th>\n",
       "      <th>media_type</th>\n",
       "      <th>year</th>\n",
       "      <th>month</th>\n",
       "      <th>day</th>\n",
       "      <th>hour</th>\n",
       "      <th>Day_week</th>\n",
       "    </tr>\n",
       "  </thead>\n",
       "  <tbody>\n",
       "    <tr>\n",
       "      <th>0</th>\n",
       "      <td>Cristiano Ronaldo</td>\n",
       "      <td>Sportif</td>\n",
       "      <td>2982</td>\n",
       "      <td>253140888</td>\n",
       "      <td>459</td>\n",
       "      <td>Another week of playing inside and staying act...</td>\n",
       "      <td>22995</td>\n",
       "      <td>15023301</td>\n",
       "      <td>Video</td>\n",
       "      <td>2020</td>\n",
       "      <td>4</td>\n",
       "      <td>11</td>\n",
       "      <td>9</td>\n",
       "      <td>Saturday</td>\n",
       "    </tr>\n",
       "    <tr>\n",
       "      <th>1</th>\n",
       "      <td>Cristiano Ronaldo</td>\n",
       "      <td>Sportif</td>\n",
       "      <td>2982</td>\n",
       "      <td>253140888</td>\n",
       "      <td>459</td>\n",
       "      <td>We wish a Happy Easter to everyone 🌍❤️🙏\\r\\n#st...</td>\n",
       "      <td>62374</td>\n",
       "      <td>9661590</td>\n",
       "      <td>Photo</td>\n",
       "      <td>2020</td>\n",
       "      <td>4</td>\n",
       "      <td>12</td>\n",
       "      <td>13</td>\n",
       "      <td>Sunday</td>\n",
       "    </tr>\n",
       "    <tr>\n",
       "      <th>2</th>\n",
       "      <td>Cristiano Ronaldo</td>\n",
       "      <td>Sportif</td>\n",
       "      <td>2982</td>\n",
       "      <td>253140888</td>\n",
       "      <td>459</td>\n",
       "      <td>.\\r\\n\\r\\nKids, let the Dad do his work 🤷🏻‍♂️❤️...</td>\n",
       "      <td>108402</td>\n",
       "      <td>43462083</td>\n",
       "      <td>Video</td>\n",
       "      <td>2020</td>\n",
       "      <td>4</td>\n",
       "      <td>13</td>\n",
       "      <td>12</td>\n",
       "      <td>Monday</td>\n",
       "    </tr>\n",
       "    <tr>\n",
       "      <th>3</th>\n",
       "      <td>Cristiano Ronaldo</td>\n",
       "      <td>Sportif</td>\n",
       "      <td>2982</td>\n",
       "      <td>253140888</td>\n",
       "      <td>459</td>\n",
       "      <td>Feeling very thankful to have my mum home from...</td>\n",
       "      <td>62612</td>\n",
       "      <td>9435202</td>\n",
       "      <td>Photo</td>\n",
       "      <td>2020</td>\n",
       "      <td>3</td>\n",
       "      <td>28</td>\n",
       "      <td>23</td>\n",
       "      <td>Saturday</td>\n",
       "    </tr>\n",
       "    <tr>\n",
       "      <th>4</th>\n",
       "      <td>Cristiano Ronaldo</td>\n",
       "      <td>Sportif</td>\n",
       "      <td>2982</td>\n",
       "      <td>253140888</td>\n",
       "      <td>459</td>\n",
       "      <td>In this difficult moment for the whole world, ...</td>\n",
       "      <td>67666</td>\n",
       "      <td>9668361</td>\n",
       "      <td>Photo</td>\n",
       "      <td>2020</td>\n",
       "      <td>3</td>\n",
       "      <td>30</td>\n",
       "      <td>12</td>\n",
       "      <td>Monday</td>\n",
       "    </tr>\n",
       "  </tbody>\n",
       "</table>\n",
       "</div>"
      ],
      "text/plain": [
       "          influencer pr_activity num_posts  num_followers  num_followings  \\\n",
       "0  Cristiano Ronaldo     Sportif      2982      253140888             459   \n",
       "1  Cristiano Ronaldo     Sportif      2982      253140888             459   \n",
       "2  Cristiano Ronaldo     Sportif      2982      253140888             459   \n",
       "3  Cristiano Ronaldo     Sportif      2982      253140888             459   \n",
       "4  Cristiano Ronaldo     Sportif      2982      253140888             459   \n",
       "\n",
       "                                    post_description  num_comments  num_likes  \\\n",
       "0  Another week of playing inside and staying act...         22995   15023301   \n",
       "1  We wish a Happy Easter to everyone 🌍❤️🙏\\r\\n#st...         62374    9661590   \n",
       "2  .\\r\\n\\r\\nKids, let the Dad do his work 🤷🏻‍♂️❤️...        108402   43462083   \n",
       "3  Feeling very thankful to have my mum home from...         62612    9435202   \n",
       "4  In this difficult moment for the whole world, ...         67666    9668361   \n",
       "\n",
       "  media_type  year  month  day  hour  Day_week  \n",
       "0      Video  2020      4   11     9  Saturday  \n",
       "1      Photo  2020      4   12    13    Sunday  \n",
       "2      Video  2020      4   13    12    Monday  \n",
       "3      Photo  2020      3   28    23  Saturday  \n",
       "4      Photo  2020      3   30    12    Monday  "
      ]
     },
     "execution_count": 37,
     "metadata": {},
     "output_type": "execute_result"
    }
   ],
   "source": [
    "print(data_inst.shape)\n",
    "data_inst.head(5)"
   ]
  },
  {
   "cell_type": "markdown",
   "metadata": {},
   "source": [
    "### Export"
   ]
  },
  {
   "cell_type": "code",
   "execution_count": 38,
   "metadata": {},
   "outputs": [],
   "source": [
    "export_csv = data_inst.to_csv (r'C:\\Users\\basti\\DataCamp\\Projet_Groupe_vclean\\data\\3_clean_data\\data_inst.csv', index = None, header=True) "
   ]
  },
  {
   "cell_type": "code",
   "execution_count": null,
   "metadata": {},
   "outputs": [],
   "source": []
  }
 ],
 "metadata": {
  "kernelspec": {
   "display_name": "Python 3",
   "language": "python",
   "name": "python3"
  },
  "language_info": {
   "codemirror_mode": {
    "name": "ipython",
    "version": 3
   },
   "file_extension": ".py",
   "mimetype": "text/x-python",
   "name": "python",
   "nbconvert_exporter": "python",
   "pygments_lexer": "ipython3",
   "version": "3.7.0"
  }
 },
 "nbformat": 4,
 "nbformat_minor": 4
}
