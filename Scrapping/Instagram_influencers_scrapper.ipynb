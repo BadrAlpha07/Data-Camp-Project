{
 "cells": [
  {
   "cell_type": "markdown",
   "metadata": {},
   "source": [
    "### 0. Installing & Importing dependencies"
   ]
  },
  {
   "cell_type": "code",
   "execution_count": 1,
   "metadata": {
    "scrolled": true
   },
   "outputs": [],
   "source": [
    "#import sys\n",
    "#!{sys.executable} -m pip install requests\n",
    "#!{sys.executable} -m pip install html5lib\n",
    "#!{sys.executable} -m pip install bs4\n",
    "#!{sys.executable} -m pip install bs4 selenium"
   ]
  },
  {
   "cell_type": "code",
   "execution_count": 2,
   "metadata": {},
   "outputs": [],
   "source": [
    "from bs4 import BeautifulSoup\n",
    "import pandas as pd\n",
    "import numpy as np\n",
    "import time\n",
    "from parse import search\n",
    "from selenium import webdriver\n",
    "from scrapping_functions import Scrapper"
   ]
  },
  {
   "cell_type": "code",
   "execution_count": 9,
   "metadata": {},
   "outputs": [],
   "source": [
    "driver_path = r\"C:\\Users\\basti\\DataCamp\\Projet_Groupe\\chromedriver.exe\"\n",
    "#for Instagram Scrapping\n",
    "user_name = \"datacamp1003\"\n",
    "password= \"$datacamp1003$\"\n",
    "\n",
    "#define our Scrapper\n",
    "scrapper = Scrapper(user_name, password, driver_path)"
   ]
  },
  {
   "cell_type": "markdown",
   "metadata": {},
   "source": [
    "### 1. Retriving top 49 World Influencers"
   ]
  },
  {
   "cell_type": "code",
   "execution_count": 4,
   "metadata": {},
   "outputs": [],
   "source": [
    "influencers_int, links_int = scrapper.get_influencers_world()"
   ]
  },
  {
   "cell_type": "code",
   "execution_count": null,
   "metadata": {},
   "outputs": [],
   "source": [
    "export_csv = influencers_int.to_csv (r'..\\Data\\influencer_list_world.csv', index = None, header=True) "
   ]
  },
  {
   "cell_type": "markdown",
   "metadata": {},
   "source": [
    "### 2. Retrieving top 50 Influencers in France"
   ]
  },
  {
   "cell_type": "code",
   "execution_count": null,
   "metadata": {},
   "outputs": [],
   "source": [
    "influencers_fr, links_fr = scrapper.get_influencers_france()"
   ]
  },
  {
   "cell_type": "code",
   "execution_count": null,
   "metadata": {},
   "outputs": [],
   "source": [
    "export_csv = influencers_fr.to_csv (r'..\\Data\\france_influencer_list.csv', index = None, header=True) "
   ]
  },
  {
   "cell_type": "markdown",
   "metadata": {},
   "source": [
    "### 3. Retrieving influencers infos and their posts' links (World)"
   ]
  },
  {
   "cell_type": "code",
   "execution_count": 22,
   "metadata": {},
   "outputs": [],
   "source": [
    "# Selecting 10 influencers as example to retrieve posts from\n",
    "links_int_1 = links_int[47:49]\n",
    "influencers_int_1 = influencers_int[47:49]"
   ]
  },
  {
   "cell_type": "code",
   "execution_count": 23,
   "metadata": {},
   "outputs": [
    {
     "data": {
      "text/html": [
       "<div>\n",
       "<style scoped>\n",
       "    .dataframe tbody tr th:only-of-type {\n",
       "        vertical-align: middle;\n",
       "    }\n",
       "\n",
       "    .dataframe tbody tr th {\n",
       "        vertical-align: top;\n",
       "    }\n",
       "\n",
       "    .dataframe thead th {\n",
       "        text-align: right;\n",
       "    }\n",
       "</style>\n",
       "<table border=\"1\" class=\"dataframe\">\n",
       "  <thead>\n",
       "    <tr style=\"text-align: right;\">\n",
       "      <th></th>\n",
       "      <th>Links to profile</th>\n",
       "      <th>Name</th>\n",
       "      <th>Activity</th>\n",
       "      <th>Country</th>\n",
       "      <th>Brand</th>\n",
       "    </tr>\n",
       "  </thead>\n",
       "  <tbody>\n",
       "    <tr>\n",
       "      <th>47</th>\n",
       "      <td>https://www.instagram.com/9gag/</td>\n",
       "      <td>9GAG</td>\n",
       "      <td>Réseau social</td>\n",
       "      <td>Hong Kong</td>\n",
       "      <td>Oui</td>\n",
       "    </tr>\n",
       "    <tr>\n",
       "      <th>48</th>\n",
       "      <td>https://www.instagram.com/snoopdogg/</td>\n",
       "      <td>Snoop Dogg</td>\n",
       "      <td>Musicien</td>\n",
       "      <td>États-Unis</td>\n",
       "      <td>Non</td>\n",
       "    </tr>\n",
       "  </tbody>\n",
       "</table>\n",
       "</div>"
      ],
      "text/plain": [
       "                        Links to profile        Name       Activity  \\\n",
       "47       https://www.instagram.com/9gag/        9GAG  Réseau social   \n",
       "48  https://www.instagram.com/snoopdogg/  Snoop Dogg       Musicien   \n",
       "\n",
       "       Country Brand  \n",
       "47   Hong Kong   Oui  \n",
       "48  États-Unis   Non  "
      ]
     },
     "execution_count": 23,
     "metadata": {},
     "output_type": "execute_result"
    }
   ],
   "source": [
    "influencers_int_1"
   ]
  },
  {
   "cell_type": "code",
   "execution_count": 24,
   "metadata": {},
   "outputs": [
    {
     "name": "stdout",
     "output_type": "stream",
     "text": [
      "https://www.instagram.com/9gag/\n",
      "489\n",
      "Lien du compte:https://www.instagram.com/9gag/\n",
      "Biographie:9GAG: Go Fun The World 🌟 Get our app for the funniest MEMES, GIFS and VIDEOS👇🏻\n",
      "Nombre de posts:25 332 publications\n",
      "Nombre de followers:55 539 050\n",
      "Nombre d'abonnement:29\n",
      "Statut:Vérifié\n",
      "https://www.instagram.com/snoopdogg/\n",
      "492\n",
      "Lien du compte:https://www.instagram.com/snoopdogg/\n",
      "Biographie:snoopdogg @snoopysclothing coming soon\n",
      "Get the #Doggystyle bundle on @snoopermarket click below\n",
      "Nombre de posts:47 998 publications\n",
      "Nombre de followers:55 395 629\n",
      "Nombre d'abonnement:4 313\n",
      "Statut:Vérifié\n"
     ]
    }
   ],
   "source": [
    "data_frames=[]\n",
    "pause_time = 3\n",
    "for i in range(len(links_int_1)):\n",
    "    print(links_int_1[i])\n",
    "    if i == 0:\n",
    "        browser = scrapper.connection_instagram()\n",
    "    df = scrapper.get_influencer_posts(influencers_int_1,i, browser, links_int_1[i], pause_time)\n",
    "    data_frames.append(df)\n",
    "links_pub_int = pd.concat(data_frames)\n",
    "browser.quit()"
   ]
  },
  {
   "cell_type": "code",
   "execution_count": 25,
   "metadata": {},
   "outputs": [],
   "source": [
    "links_pub_int = pd.concat(data_frames)"
   ]
  },
  {
   "cell_type": "code",
   "execution_count": 26,
   "metadata": {},
   "outputs": [
    {
     "data": {
      "text/html": [
       "<div>\n",
       "<style scoped>\n",
       "    .dataframe tbody tr th:only-of-type {\n",
       "        vertical-align: middle;\n",
       "    }\n",
       "\n",
       "    .dataframe tbody tr th {\n",
       "        vertical-align: top;\n",
       "    }\n",
       "\n",
       "    .dataframe thead th {\n",
       "        text-align: right;\n",
       "    }\n",
       "</style>\n",
       "<table border=\"1\" class=\"dataframe\">\n",
       "  <thead>\n",
       "    <tr style=\"text-align: right;\">\n",
       "      <th></th>\n",
       "      <th>Links to profile</th>\n",
       "      <th>Links to publication</th>\n",
       "      <th>Name Account/Influencer</th>\n",
       "      <th>Professional Activity</th>\n",
       "      <th>Account description</th>\n",
       "      <th>Number of posts</th>\n",
       "      <th>Number of followers</th>\n",
       "      <th>Number of followings</th>\n",
       "      <th>Verified Status</th>\n",
       "    </tr>\n",
       "  </thead>\n",
       "  <tbody>\n",
       "    <tr>\n",
       "      <th>0</th>\n",
       "      <td>https://www.instagram.com/9gag/</td>\n",
       "      <td>https://www.instagram.com/p/CH-STHhl5NB/</td>\n",
       "      <td>9GAG</td>\n",
       "      <td>Réseau social</td>\n",
       "      <td>9GAG: Go Fun The World 🌟 Get our app for the f...</td>\n",
       "      <td>25 332 publications</td>\n",
       "      <td>55 539 050</td>\n",
       "      <td>29</td>\n",
       "      <td>Vérifié</td>\n",
       "    </tr>\n",
       "    <tr>\n",
       "      <th>1</th>\n",
       "      <td>https://www.instagram.com/9gag/</td>\n",
       "      <td>https://www.instagram.com/p/CH-XHuwgILY/</td>\n",
       "      <td>9GAG</td>\n",
       "      <td>Réseau social</td>\n",
       "      <td>9GAG: Go Fun The World 🌟 Get our app for the f...</td>\n",
       "      <td>25 332 publications</td>\n",
       "      <td>55 539 050</td>\n",
       "      <td>29</td>\n",
       "      <td>Vérifié</td>\n",
       "    </tr>\n",
       "    <tr>\n",
       "      <th>2</th>\n",
       "      <td>https://www.instagram.com/9gag/</td>\n",
       "      <td>https://www.instagram.com/p/CH-pnxcHuyw/</td>\n",
       "      <td>9GAG</td>\n",
       "      <td>Réseau social</td>\n",
       "      <td>9GAG: Go Fun The World 🌟 Get our app for the f...</td>\n",
       "      <td>25 332 publications</td>\n",
       "      <td>55 539 050</td>\n",
       "      <td>29</td>\n",
       "      <td>Vérifié</td>\n",
       "    </tr>\n",
       "    <tr>\n",
       "      <th>3</th>\n",
       "      <td>https://www.instagram.com/9gag/</td>\n",
       "      <td>https://www.instagram.com/p/CH0EJkfAeqQ/</td>\n",
       "      <td>9GAG</td>\n",
       "      <td>Réseau social</td>\n",
       "      <td>9GAG: Go Fun The World 🌟 Get our app for the f...</td>\n",
       "      <td>25 332 publications</td>\n",
       "      <td>55 539 050</td>\n",
       "      <td>29</td>\n",
       "      <td>Vérifié</td>\n",
       "    </tr>\n",
       "    <tr>\n",
       "      <th>4</th>\n",
       "      <td>https://www.instagram.com/9gag/</td>\n",
       "      <td>https://www.instagram.com/p/CH0Ruq5HHBu/</td>\n",
       "      <td>9GAG</td>\n",
       "      <td>Réseau social</td>\n",
       "      <td>9GAG: Go Fun The World 🌟 Get our app for the f...</td>\n",
       "      <td>25 332 publications</td>\n",
       "      <td>55 539 050</td>\n",
       "      <td>29</td>\n",
       "      <td>Vérifié</td>\n",
       "    </tr>\n",
       "    <tr>\n",
       "      <th>...</th>\n",
       "      <td>...</td>\n",
       "      <td>...</td>\n",
       "      <td>...</td>\n",
       "      <td>...</td>\n",
       "      <td>...</td>\n",
       "      <td>...</td>\n",
       "      <td>...</td>\n",
       "      <td>...</td>\n",
       "      <td>...</td>\n",
       "    </tr>\n",
       "    <tr>\n",
       "      <th>487</th>\n",
       "      <td>https://www.instagram.com/snoopdogg/</td>\n",
       "      <td>https://www.instagram.com/p/CJyxRgygwAg/</td>\n",
       "      <td>Snoop Dogg</td>\n",
       "      <td>Musicien</td>\n",
       "      <td>snoopdogg @snoopysclothing coming soon\\nGet th...</td>\n",
       "      <td>47 998 publications</td>\n",
       "      <td>55 395 629</td>\n",
       "      <td>4 313</td>\n",
       "      <td>Vérifié</td>\n",
       "    </tr>\n",
       "    <tr>\n",
       "      <th>488</th>\n",
       "      <td>https://www.instagram.com/snoopdogg/</td>\n",
       "      <td>https://www.instagram.com/p/CJz6yR8M21_/</td>\n",
       "      <td>Snoop Dogg</td>\n",
       "      <td>Musicien</td>\n",
       "      <td>snoopdogg @snoopysclothing coming soon\\nGet th...</td>\n",
       "      <td>47 998 publications</td>\n",
       "      <td>55 395 629</td>\n",
       "      <td>4 313</td>\n",
       "      <td>Vérifié</td>\n",
       "    </tr>\n",
       "    <tr>\n",
       "      <th>489</th>\n",
       "      <td>https://www.instagram.com/snoopdogg/</td>\n",
       "      <td>https://www.instagram.com/p/CJz7IA2liu1/</td>\n",
       "      <td>Snoop Dogg</td>\n",
       "      <td>Musicien</td>\n",
       "      <td>snoopdogg @snoopysclothing coming soon\\nGet th...</td>\n",
       "      <td>47 998 publications</td>\n",
       "      <td>55 395 629</td>\n",
       "      <td>4 313</td>\n",
       "      <td>Vérifié</td>\n",
       "    </tr>\n",
       "    <tr>\n",
       "      <th>490</th>\n",
       "      <td>https://www.instagram.com/snoopdogg/</td>\n",
       "      <td>https://www.instagram.com/p/CJzBeQQsn-D/</td>\n",
       "      <td>Snoop Dogg</td>\n",
       "      <td>Musicien</td>\n",
       "      <td>snoopdogg @snoopysclothing coming soon\\nGet th...</td>\n",
       "      <td>47 998 publications</td>\n",
       "      <td>55 395 629</td>\n",
       "      <td>4 313</td>\n",
       "      <td>Vérifié</td>\n",
       "    </tr>\n",
       "    <tr>\n",
       "      <th>491</th>\n",
       "      <td>https://www.instagram.com/snoopdogg/</td>\n",
       "      <td>https://www.instagram.com/p/CJzcxFRsSxW/</td>\n",
       "      <td>Snoop Dogg</td>\n",
       "      <td>Musicien</td>\n",
       "      <td>snoopdogg @snoopysclothing coming soon\\nGet th...</td>\n",
       "      <td>47 998 publications</td>\n",
       "      <td>55 395 629</td>\n",
       "      <td>4 313</td>\n",
       "      <td>Vérifié</td>\n",
       "    </tr>\n",
       "  </tbody>\n",
       "</table>\n",
       "<p>981 rows × 9 columns</p>\n",
       "</div>"
      ],
      "text/plain": [
       "                         Links to profile  \\\n",
       "0         https://www.instagram.com/9gag/   \n",
       "1         https://www.instagram.com/9gag/   \n",
       "2         https://www.instagram.com/9gag/   \n",
       "3         https://www.instagram.com/9gag/   \n",
       "4         https://www.instagram.com/9gag/   \n",
       "..                                    ...   \n",
       "487  https://www.instagram.com/snoopdogg/   \n",
       "488  https://www.instagram.com/snoopdogg/   \n",
       "489  https://www.instagram.com/snoopdogg/   \n",
       "490  https://www.instagram.com/snoopdogg/   \n",
       "491  https://www.instagram.com/snoopdogg/   \n",
       "\n",
       "                         Links to publication Name Account/Influencer  \\\n",
       "0    https://www.instagram.com/p/CH-STHhl5NB/                    9GAG   \n",
       "1    https://www.instagram.com/p/CH-XHuwgILY/                    9GAG   \n",
       "2    https://www.instagram.com/p/CH-pnxcHuyw/                    9GAG   \n",
       "3    https://www.instagram.com/p/CH0EJkfAeqQ/                    9GAG   \n",
       "4    https://www.instagram.com/p/CH0Ruq5HHBu/                    9GAG   \n",
       "..                                        ...                     ...   \n",
       "487  https://www.instagram.com/p/CJyxRgygwAg/              Snoop Dogg   \n",
       "488  https://www.instagram.com/p/CJz6yR8M21_/              Snoop Dogg   \n",
       "489  https://www.instagram.com/p/CJz7IA2liu1/              Snoop Dogg   \n",
       "490  https://www.instagram.com/p/CJzBeQQsn-D/              Snoop Dogg   \n",
       "491  https://www.instagram.com/p/CJzcxFRsSxW/              Snoop Dogg   \n",
       "\n",
       "    Professional Activity                                Account description  \\\n",
       "0           Réseau social  9GAG: Go Fun The World 🌟 Get our app for the f...   \n",
       "1           Réseau social  9GAG: Go Fun The World 🌟 Get our app for the f...   \n",
       "2           Réseau social  9GAG: Go Fun The World 🌟 Get our app for the f...   \n",
       "3           Réseau social  9GAG: Go Fun The World 🌟 Get our app for the f...   \n",
       "4           Réseau social  9GAG: Go Fun The World 🌟 Get our app for the f...   \n",
       "..                    ...                                                ...   \n",
       "487              Musicien  snoopdogg @snoopysclothing coming soon\\nGet th...   \n",
       "488              Musicien  snoopdogg @snoopysclothing coming soon\\nGet th...   \n",
       "489              Musicien  snoopdogg @snoopysclothing coming soon\\nGet th...   \n",
       "490              Musicien  snoopdogg @snoopysclothing coming soon\\nGet th...   \n",
       "491              Musicien  snoopdogg @snoopysclothing coming soon\\nGet th...   \n",
       "\n",
       "         Number of posts Number of followers Number of followings  \\\n",
       "0    25 332 publications          55 539 050                   29   \n",
       "1    25 332 publications          55 539 050                   29   \n",
       "2    25 332 publications          55 539 050                   29   \n",
       "3    25 332 publications          55 539 050                   29   \n",
       "4    25 332 publications          55 539 050                   29   \n",
       "..                   ...                 ...                  ...   \n",
       "487  47 998 publications          55 395 629                4 313   \n",
       "488  47 998 publications          55 395 629                4 313   \n",
       "489  47 998 publications          55 395 629                4 313   \n",
       "490  47 998 publications          55 395 629                4 313   \n",
       "491  47 998 publications          55 395 629                4 313   \n",
       "\n",
       "    Verified Status  \n",
       "0           Vérifié  \n",
       "1           Vérifié  \n",
       "2           Vérifié  \n",
       "3           Vérifié  \n",
       "4           Vérifié  \n",
       "..              ...  \n",
       "487         Vérifié  \n",
       "488         Vérifié  \n",
       "489         Vérifié  \n",
       "490         Vérifié  \n",
       "491         Vérifié  \n",
       "\n",
       "[981 rows x 9 columns]"
      ]
     },
     "execution_count": 26,
     "metadata": {},
     "output_type": "execute_result"
    }
   ],
   "source": [
    "links_pub_int"
   ]
  },
  {
   "cell_type": "code",
   "execution_count": 27,
   "metadata": {},
   "outputs": [],
   "source": [
    "export_csv = links_pub_int.to_csv (r'C:\\Users\\basti\\DataCamp\\Projet_Groupe\\data\\bastien\\Posts list\\int_infos_pubs_40_50_2.csv', index = None, header=True) "
   ]
  },
  {
   "cell_type": "code",
   "execution_count": 28,
   "metadata": {},
   "outputs": [],
   "source": [
    "df_1 = pd.read_csv(r'C:\\Users\\basti\\DataCamp\\Projet_Groupe\\data\\bastien\\Posts list\\int_infos_pubs_40_50_1.csv')\n",
    "df_2 = pd.read_csv(r'C:\\Users\\basti\\DataCamp\\Projet_Groupe\\data\\bastien\\Posts list\\int_infos_pubs_40_50_2.csv')"
   ]
  },
  {
   "cell_type": "code",
   "execution_count": 29,
   "metadata": {},
   "outputs": [
    {
     "data": {
      "text/html": [
       "<div>\n",
       "<style scoped>\n",
       "    .dataframe tbody tr th:only-of-type {\n",
       "        vertical-align: middle;\n",
       "    }\n",
       "\n",
       "    .dataframe tbody tr th {\n",
       "        vertical-align: top;\n",
       "    }\n",
       "\n",
       "    .dataframe thead th {\n",
       "        text-align: right;\n",
       "    }\n",
       "</style>\n",
       "<table border=\"1\" class=\"dataframe\">\n",
       "  <thead>\n",
       "    <tr style=\"text-align: right;\">\n",
       "      <th></th>\n",
       "      <th>Links to profile</th>\n",
       "      <th>Links to publication</th>\n",
       "      <th>Name Account/Influencer</th>\n",
       "      <th>Professional Activity</th>\n",
       "      <th>Account description</th>\n",
       "      <th>Number of posts</th>\n",
       "      <th>Number of followers</th>\n",
       "      <th>Number of followings</th>\n",
       "      <th>Verified Status</th>\n",
       "    </tr>\n",
       "  </thead>\n",
       "  <tbody>\n",
       "    <tr>\n",
       "      <th>0</th>\n",
       "      <td>https://www.instagram.com/justintimberlake/</td>\n",
       "      <td>https://www.instagram.com/p/B-KhhVNB98q/</td>\n",
       "      <td>Justin Timberlake</td>\n",
       "      <td>Musicien et acteur</td>\n",
       "      <td>Justin Timberlake</td>\n",
       "      <td>751 publications</td>\n",
       "      <td>59 584 873</td>\n",
       "      <td>887</td>\n",
       "      <td>Vérifié</td>\n",
       "    </tr>\n",
       "    <tr>\n",
       "      <th>1</th>\n",
       "      <td>https://www.instagram.com/justintimberlake/</td>\n",
       "      <td>https://www.instagram.com/p/B-XnYkSBL3d/</td>\n",
       "      <td>Justin Timberlake</td>\n",
       "      <td>Musicien et acteur</td>\n",
       "      <td>Justin Timberlake</td>\n",
       "      <td>751 publications</td>\n",
       "      <td>59 584 873</td>\n",
       "      <td>887</td>\n",
       "      <td>Vérifié</td>\n",
       "    </tr>\n",
       "    <tr>\n",
       "      <th>2</th>\n",
       "      <td>https://www.instagram.com/justintimberlake/</td>\n",
       "      <td>https://www.instagram.com/p/B-ipGP3BdHk/</td>\n",
       "      <td>Justin Timberlake</td>\n",
       "      <td>Musicien et acteur</td>\n",
       "      <td>Justin Timberlake</td>\n",
       "      <td>751 publications</td>\n",
       "      <td>59 584 873</td>\n",
       "      <td>887</td>\n",
       "      <td>Vérifié</td>\n",
       "    </tr>\n",
       "    <tr>\n",
       "      <th>3</th>\n",
       "      <td>https://www.instagram.com/justintimberlake/</td>\n",
       "      <td>https://www.instagram.com/p/B-nB0NOhUHu/</td>\n",
       "      <td>Justin Timberlake</td>\n",
       "      <td>Musicien et acteur</td>\n",
       "      <td>Justin Timberlake</td>\n",
       "      <td>751 publications</td>\n",
       "      <td>59 584 873</td>\n",
       "      <td>887</td>\n",
       "      <td>Vérifié</td>\n",
       "    </tr>\n",
       "    <tr>\n",
       "      <th>4</th>\n",
       "      <td>https://www.instagram.com/justintimberlake/</td>\n",
       "      <td>https://www.instagram.com/p/B-pPHpHhWVY/</td>\n",
       "      <td>Justin Timberlake</td>\n",
       "      <td>Musicien et acteur</td>\n",
       "      <td>Justin Timberlake</td>\n",
       "      <td>751 publications</td>\n",
       "      <td>59 584 873</td>\n",
       "      <td>887</td>\n",
       "      <td>Vérifié</td>\n",
       "    </tr>\n",
       "    <tr>\n",
       "      <th>...</th>\n",
       "      <td>...</td>\n",
       "      <td>...</td>\n",
       "      <td>...</td>\n",
       "      <td>...</td>\n",
       "      <td>...</td>\n",
       "      <td>...</td>\n",
       "      <td>...</td>\n",
       "      <td>...</td>\n",
       "      <td>...</td>\n",
       "    </tr>\n",
       "    <tr>\n",
       "      <th>4221</th>\n",
       "      <td>https://www.instagram.com/snoopdogg/</td>\n",
       "      <td>https://www.instagram.com/p/CJyxRgygwAg/</td>\n",
       "      <td>Snoop Dogg</td>\n",
       "      <td>Musicien</td>\n",
       "      <td>snoopdogg @snoopysclothing coming soon\\nGet th...</td>\n",
       "      <td>47 998 publications</td>\n",
       "      <td>55 395 629</td>\n",
       "      <td>4 313</td>\n",
       "      <td>Vérifié</td>\n",
       "    </tr>\n",
       "    <tr>\n",
       "      <th>4222</th>\n",
       "      <td>https://www.instagram.com/snoopdogg/</td>\n",
       "      <td>https://www.instagram.com/p/CJz6yR8M21_/</td>\n",
       "      <td>Snoop Dogg</td>\n",
       "      <td>Musicien</td>\n",
       "      <td>snoopdogg @snoopysclothing coming soon\\nGet th...</td>\n",
       "      <td>47 998 publications</td>\n",
       "      <td>55 395 629</td>\n",
       "      <td>4 313</td>\n",
       "      <td>Vérifié</td>\n",
       "    </tr>\n",
       "    <tr>\n",
       "      <th>4223</th>\n",
       "      <td>https://www.instagram.com/snoopdogg/</td>\n",
       "      <td>https://www.instagram.com/p/CJz7IA2liu1/</td>\n",
       "      <td>Snoop Dogg</td>\n",
       "      <td>Musicien</td>\n",
       "      <td>snoopdogg @snoopysclothing coming soon\\nGet th...</td>\n",
       "      <td>47 998 publications</td>\n",
       "      <td>55 395 629</td>\n",
       "      <td>4 313</td>\n",
       "      <td>Vérifié</td>\n",
       "    </tr>\n",
       "    <tr>\n",
       "      <th>4224</th>\n",
       "      <td>https://www.instagram.com/snoopdogg/</td>\n",
       "      <td>https://www.instagram.com/p/CJzBeQQsn-D/</td>\n",
       "      <td>Snoop Dogg</td>\n",
       "      <td>Musicien</td>\n",
       "      <td>snoopdogg @snoopysclothing coming soon\\nGet th...</td>\n",
       "      <td>47 998 publications</td>\n",
       "      <td>55 395 629</td>\n",
       "      <td>4 313</td>\n",
       "      <td>Vérifié</td>\n",
       "    </tr>\n",
       "    <tr>\n",
       "      <th>4225</th>\n",
       "      <td>https://www.instagram.com/snoopdogg/</td>\n",
       "      <td>https://www.instagram.com/p/CJzcxFRsSxW/</td>\n",
       "      <td>Snoop Dogg</td>\n",
       "      <td>Musicien</td>\n",
       "      <td>snoopdogg @snoopysclothing coming soon\\nGet th...</td>\n",
       "      <td>47 998 publications</td>\n",
       "      <td>55 395 629</td>\n",
       "      <td>4 313</td>\n",
       "      <td>Vérifié</td>\n",
       "    </tr>\n",
       "  </tbody>\n",
       "</table>\n",
       "<p>4226 rows × 9 columns</p>\n",
       "</div>"
      ],
      "text/plain": [
       "                                 Links to profile  \\\n",
       "0     https://www.instagram.com/justintimberlake/   \n",
       "1     https://www.instagram.com/justintimberlake/   \n",
       "2     https://www.instagram.com/justintimberlake/   \n",
       "3     https://www.instagram.com/justintimberlake/   \n",
       "4     https://www.instagram.com/justintimberlake/   \n",
       "...                                           ...   \n",
       "4221         https://www.instagram.com/snoopdogg/   \n",
       "4222         https://www.instagram.com/snoopdogg/   \n",
       "4223         https://www.instagram.com/snoopdogg/   \n",
       "4224         https://www.instagram.com/snoopdogg/   \n",
       "4225         https://www.instagram.com/snoopdogg/   \n",
       "\n",
       "                          Links to publication Name Account/Influencer  \\\n",
       "0     https://www.instagram.com/p/B-KhhVNB98q/       Justin Timberlake   \n",
       "1     https://www.instagram.com/p/B-XnYkSBL3d/       Justin Timberlake   \n",
       "2     https://www.instagram.com/p/B-ipGP3BdHk/       Justin Timberlake   \n",
       "3     https://www.instagram.com/p/B-nB0NOhUHu/       Justin Timberlake   \n",
       "4     https://www.instagram.com/p/B-pPHpHhWVY/       Justin Timberlake   \n",
       "...                                        ...                     ...   \n",
       "4221  https://www.instagram.com/p/CJyxRgygwAg/              Snoop Dogg   \n",
       "4222  https://www.instagram.com/p/CJz6yR8M21_/              Snoop Dogg   \n",
       "4223  https://www.instagram.com/p/CJz7IA2liu1/              Snoop Dogg   \n",
       "4224  https://www.instagram.com/p/CJzBeQQsn-D/              Snoop Dogg   \n",
       "4225  https://www.instagram.com/p/CJzcxFRsSxW/              Snoop Dogg   \n",
       "\n",
       "     Professional Activity                                Account description  \\\n",
       "0       Musicien et acteur                                Justin Timberlake     \n",
       "1       Musicien et acteur                                Justin Timberlake     \n",
       "2       Musicien et acteur                                Justin Timberlake     \n",
       "3       Musicien et acteur                                Justin Timberlake     \n",
       "4       Musicien et acteur                                Justin Timberlake     \n",
       "...                    ...                                                ...   \n",
       "4221              Musicien  snoopdogg @snoopysclothing coming soon\\nGet th...   \n",
       "4222              Musicien  snoopdogg @snoopysclothing coming soon\\nGet th...   \n",
       "4223              Musicien  snoopdogg @snoopysclothing coming soon\\nGet th...   \n",
       "4224              Musicien  snoopdogg @snoopysclothing coming soon\\nGet th...   \n",
       "4225              Musicien  snoopdogg @snoopysclothing coming soon\\nGet th...   \n",
       "\n",
       "          Number of posts Number of followers Number of followings  \\\n",
       "0        751 publications          59 584 873                  887   \n",
       "1        751 publications          59 584 873                  887   \n",
       "2        751 publications          59 584 873                  887   \n",
       "3        751 publications          59 584 873                  887   \n",
       "4        751 publications          59 584 873                  887   \n",
       "...                   ...                 ...                  ...   \n",
       "4221  47 998 publications          55 395 629                4 313   \n",
       "4222  47 998 publications          55 395 629                4 313   \n",
       "4223  47 998 publications          55 395 629                4 313   \n",
       "4224  47 998 publications          55 395 629                4 313   \n",
       "4225  47 998 publications          55 395 629                4 313   \n",
       "\n",
       "     Verified Status  \n",
       "0            Vérifié  \n",
       "1            Vérifié  \n",
       "2            Vérifié  \n",
       "3            Vérifié  \n",
       "4            Vérifié  \n",
       "...              ...  \n",
       "4221         Vérifié  \n",
       "4222         Vérifié  \n",
       "4223         Vérifié  \n",
       "4224         Vérifié  \n",
       "4225         Vérifié  \n",
       "\n",
       "[4226 rows x 9 columns]"
      ]
     },
     "execution_count": 29,
     "metadata": {},
     "output_type": "execute_result"
    }
   ],
   "source": [
    "df_final = pd.concat([df_1,df_2], ignore_index=True)\n",
    "df_final = df_final.drop_duplicates(subset=['Links to publication'], ignore_index=True)\n",
    "df_final"
   ]
  },
  {
   "cell_type": "code",
   "execution_count": 32,
   "metadata": {},
   "outputs": [],
   "source": [
    "export_csv = df_final.to_csv (r'C:\\Users\\basti\\DataCamp\\Projet_Groupe\\data\\bastien\\Posts list\\int_infos_pubs_40_50.csv', index = None, header=True) "
   ]
  },
  {
   "cell_type": "markdown",
   "metadata": {},
   "source": [
    "### 4. Retrieving influencers infos and their posts' links (in France)"
   ]
  },
  {
   "cell_type": "code",
   "execution_count": null,
   "metadata": {},
   "outputs": [],
   "source": [
    "# Selecting 10 influencers as example to retrieve posts from\n",
    "links_fr_1 = links_fr[0:10]\n",
    "influencers_fr_1 = influencers_fr[0:10]"
   ]
  },
  {
   "cell_type": "code",
   "execution_count": null,
   "metadata": {},
   "outputs": [],
   "source": [
    "influencers_fr_1"
   ]
  },
  {
   "cell_type": "code",
   "execution_count": null,
   "metadata": {},
   "outputs": [],
   "source": [
    "data_frames=[]\n",
    "pause_time = 3\n",
    "for i in range(len(links_fr_1)):\n",
    "    print(links_fr_1[i])\n",
    "    if i == 0:\n",
    "        browser = scrapper.connection_instagram()\n",
    "    df = scrapper.get_influencer_posts(influencers_fr_1,i, browser, links_fr_1[i], pause_time)\n",
    "    data_frames.append(df)\n",
    "links_pub_int = pd.concat(data_frames)\n",
    "browser.quit()"
   ]
  },
  {
   "cell_type": "code",
   "execution_count": null,
   "metadata": {},
   "outputs": [],
   "source": [
    "links_pub_fr"
   ]
  },
  {
   "cell_type": "code",
   "execution_count": null,
   "metadata": {},
   "outputs": [],
   "source": [
    "export_csv = links_pub_fr.to_csv (r'..\\Data\\top_10_fr_infos_pubs.csv', index = None, header=True) "
   ]
  },
  {
   "cell_type": "markdown",
   "metadata": {},
   "source": [
    "### 5. Retrieving posts' infos"
   ]
  },
  {
   "cell_type": "code",
   "execution_count": null,
   "metadata": {},
   "outputs": [],
   "source": [
    "publications = pd.read_csv(r'..\\Data\\int_infos_pubs_0_10.csv') "
   ]
  },
  {
   "cell_type": "code",
   "execution_count": null,
   "metadata": {},
   "outputs": [],
   "source": [
    "publications.iloc[1030,:]"
   ]
  },
  {
   "cell_type": "code",
   "execution_count": null,
   "metadata": {
    "scrolled": true
   },
   "outputs": [],
   "source": [
    "df_post = [] \n",
    "browser = scrapper.connection_instagram()\n",
    "for pub_link in publications[\"Links to publication\"]: \n",
    "    df = scrapper.get_pub_info(pub_link,browser)\n",
    "    df_post.append(df)\n",
    "browser.quit()"
   ]
  },
  {
   "cell_type": "code",
   "execution_count": null,
   "metadata": {},
   "outputs": [],
   "source": [
    "posts_info = pd.concat(df_post, ignore_index = True)\n",
    "posts_info"
   ]
  },
  {
   "cell_type": "code",
   "execution_count": null,
   "metadata": {},
   "outputs": [],
   "source": [
    "df_2 = pd.merge(publications, posts_info, how ='right', on =\"Links to publication\")"
   ]
  },
  {
   "cell_type": "code",
   "execution_count": null,
   "metadata": {},
   "outputs": [],
   "source": [
    "df_2"
   ]
  },
  {
   "cell_type": "markdown",
   "metadata": {},
   "source": [
    "### 4. Export"
   ]
  },
  {
   "cell_type": "code",
   "execution_count": null,
   "metadata": {},
   "outputs": [],
   "source": [
    "export_csv = df_2.to_csv (r'.\\Data\\influencers_pub_10_20 .csv', index = None, header=True) "
   ]
  }
 ],
 "metadata": {
  "kernelspec": {
   "display_name": "Python 3",
   "language": "python",
   "name": "python3"
  },
  "language_info": {
   "codemirror_mode": {
    "name": "ipython",
    "version": 3
   },
   "file_extension": ".py",
   "mimetype": "text/x-python",
   "name": "python",
   "nbconvert_exporter": "python",
   "pygments_lexer": "ipython3",
   "version": "3.7.6"
  }
 },
 "nbformat": 4,
 "nbformat_minor": 2
}
