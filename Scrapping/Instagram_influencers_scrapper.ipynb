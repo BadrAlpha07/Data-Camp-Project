{
 "cells": [
  {
   "cell_type": "markdown",
   "metadata": {},
   "source": [
    "### 0. Installing & Importing dependencies"
   ]
  },
  {
   "cell_type": "code",
   "execution_count": 1,
   "metadata": {
    "scrolled": true
   },
   "outputs": [],
   "source": [
    "#import sys\n",
    "#!{sys.executable} -m pip install requests\n",
    "#!{sys.executable} -m pip install html5lib\n",
    "#!{sys.executable} -m pip install bs4\n",
    "#!{sys.executable} -m pip install bs4 selenium"
   ]
  },
  {
   "cell_type": "code",
   "execution_count": 3,
   "metadata": {},
   "outputs": [],
   "source": [
    "import re\n",
    "import time\n",
    "import requests\n",
    "from bs4 import BeautifulSoup\n",
    "import pandas as pd\n",
    "from pandas import DataFrame\n",
    "from datetime import datetime\n",
    "import numpy as np\n",
    "import pandas as pd\n",
    "from parse import search\n",
    "from selenium import webdriver\n",
    "from selenium.webdriver.common.keys import Keys\n",
    "import scrapping_functions\n",
    "from scrapping_functions import Scrapper,get_pub_info"
   ]
  },
  {
   "cell_type": "markdown",
   "metadata": {},
   "source": [
    "### 1. Retriving top 49 World Influencers"
   ]
  },
  {
   "cell_type": "code",
   "execution_count": 4,
   "metadata": {},
   "outputs": [],
   "source": [
    "driver_path = r\"C:\\Users\\basti\\DataCamp\\Projet_Groupe\\chromedriver.exe\"\n",
    "scrapper = Scrapper(driver_path)"
   ]
  },
  {
   "cell_type": "code",
   "execution_count": 5,
   "metadata": {},
   "outputs": [],
   "source": [
    "influencers_int, links_int = scrapper.get_influencers_world()"
   ]
  },
  {
   "cell_type": "code",
   "execution_count": 7,
   "metadata": {},
   "outputs": [],
   "source": [
    "export_csv = influencers_int.to_csv (r'C:\\Users\\basti\\DataCamp\\Projet_Groupe\\data\\bastien\\Influencers lists\\influencer_list_world.csv', index = None, header=True) "
   ]
  },
  {
   "cell_type": "markdown",
   "metadata": {},
   "source": [
    "### 2.Retrieving top 50 Worl Influencers in France"
   ]
  },
  {
   "cell_type": "code",
   "execution_count": 8,
   "metadata": {},
   "outputs": [],
   "source": [
    "driver_path = r\"C:\\Users\\basti\\DataCamp\\Projet_Groupe\\chromedriver.exe\"\n",
    "scrapper = Scrapper(driver_path)"
   ]
  },
  {
   "cell_type": "code",
   "execution_count": 9,
   "metadata": {},
   "outputs": [],
   "source": [
    "influencers_fr, links_fr = scrapper.get_influencers_france()"
   ]
  },
  {
   "cell_type": "code",
   "execution_count": 10,
   "metadata": {},
   "outputs": [],
   "source": [
    "export_csv = influencers_fr.to_csv (r'C:\\Users\\basti\\DataCamp\\Projet_Groupe\\data\\bastien\\Influencers lists\\france_influencer_list.csv', index = None, header=True) "
   ]
  },
  {
   "cell_type": "markdown",
   "metadata": {},
   "source": [
    "### 3. Retrieving influencers infos and their posts (World)"
   ]
  },
  {
   "cell_type": "code",
   "execution_count": null,
   "metadata": {},
   "outputs": [],
   "source": [
    "# Selecting influencers to retrieve posts from\n",
    "links_int_1 = links_int[0:10]\n",
    "influencers_int_1 = influencers_int[0:10]"
   ]
  },
  {
   "cell_type": "code",
   "execution_count": null,
   "metadata": {},
   "outputs": [],
   "source": [
    "influencers_int_1"
   ]
  },
  {
   "cell_type": "code",
   "execution_count": null,
   "metadata": {},
   "outputs": [],
   "source": [
    "driver_path = r\"C:\\Users\\basti\\DataCamp\\Projet_Groupe\\chromedriver.exe\"\n",
    "instagram_account_link = links_int_1[0]\n",
    "user_name = \"datcamp76\"\n",
    "password= \"$datacamp76$\""
   ]
  },
  {
   "cell_type": "code",
   "execution_count": null,
   "metadata": {},
   "outputs": [],
   "source": [
    "data_frames=[]\n",
    "pause_time = 6\n",
    "for i in range(len(links_int_1)):\n",
    "    print(links_int_1[i])\n",
    "    browser = scrapper.connection_instagram(links_int_1[i], user_name, password)\n",
    "    df= scrapper.get_influencer_posts(influencers_int_1,i, browser, links_int_1[i], pause_time, user_name, password)\n",
    "    data_frames.append(df)\n",
    "links_pub_int = pd.concat(data_frames)\n",
    "browser.quit()"
   ]
  },
  {
   "cell_type": "code",
   "execution_count": null,
   "metadata": {},
   "outputs": [],
   "source": [
    "links_pub_int"
   ]
  },
  {
   "cell_type": "code",
   "execution_count": null,
   "metadata": {},
   "outputs": [],
   "source": [
    "export_csv = links_pub_int.to_csv (r'C:\\Users\\basti\\DataCamp\\Projet_Groupe\\data\\bastien\\top_10_int_infos_pubs.csv', index = None, header=True) "
   ]
  },
  {
   "cell_type": "markdown",
   "metadata": {},
   "source": [
    "### 4. Retrieving influencers infos and their posts (in France)"
   ]
  },
  {
   "cell_type": "code",
   "execution_count": null,
   "metadata": {},
   "outputs": [],
   "source": [
    "# Selecting influencers to retrieve posts from\n",
    "links_fr_1 = links_fr[0:10]\n",
    "influencers_fr_1 = influencers_fr[0:10]"
   ]
  },
  {
   "cell_type": "code",
   "execution_count": null,
   "metadata": {},
   "outputs": [],
   "source": [
    "influencers_fr_1"
   ]
  },
  {
   "cell_type": "code",
   "execution_count": null,
   "metadata": {},
   "outputs": [],
   "source": [
    "driver_path = r\"C:\\Users\\basti\\DataCamp\\Projet_Groupe\\chromedriver.exe\"\n",
    "instagram_account_link = links_fr_1[0]\n",
    "user_name = \"datcamp76\"\n",
    "password= \"$datacamp76$\""
   ]
  },
  {
   "cell_type": "code",
   "execution_count": null,
   "metadata": {},
   "outputs": [],
   "source": [
    "data_frames=[]\n",
    "pause_time = 6\n",
    "for i in range(len(links_fr_1)):\n",
    "    print(links_fr_1[i])\n",
    "    browser = scrapper.connection_instagram(links_fr_1[i], user_name, password)\n",
    "    df= scrapper.get_influencer_posts(influencers_fr_1,i, browser, links_fr_1[i], pause_time, user_name, password)\n",
    "    data_frames.append(df)\n",
    "links_pub_fr = pd.concat(data_frames)\n",
    "browser.quit()"
   ]
  },
  {
   "cell_type": "code",
   "execution_count": null,
   "metadata": {},
   "outputs": [],
   "source": [
    "links_pub_fr"
   ]
  },
  {
   "cell_type": "code",
   "execution_count": null,
   "metadata": {},
   "outputs": [],
   "source": [
    "export_csv = links_pub_fr.to_csv (r'C:\\Users\\basti\\DataCamp\\Projet_Groupe\\data\\bastien\\top_10_fr_infos_pubs.csv', index = None, header=True) "
   ]
  },
  {
   "cell_type": "markdown",
   "metadata": {},
   "source": [
    "### 3. Retrieving posts' infos"
   ]
  },
  {
   "cell_type": "code",
   "execution_count": 12,
   "metadata": {},
   "outputs": [],
   "source": [
    "publications = pd.read_csv(r'C:\\Users\\basti\\DataCamp\\Projet_Groupe\\data\\bastien\\Posts list\\top_10_int_infos_pubs.csv') "
   ]
  },
  {
   "cell_type": "code",
   "execution_count": 14,
   "metadata": {},
   "outputs": [
    {
     "data": {
      "text/plain": [
       "Links to profile                 https://www.instagram.com/therock/\n",
       "Links to publication       https://www.instagram.com/p/B_QmCVcFTTf/\n",
       "Name Account/Influencer                              Dwayne Johnson\n",
       "Professional Activity              Acteur et catcheur professionnel\n",
       "Account description                                 therock founder\n",
       "Number of posts                                  5 426 publications\n",
       "Number of followers                                     210 980 205\n",
       "Number of followings                                            389\n",
       "Verified Status                                             Vérifié\n",
       "Name: 1030, dtype: object"
      ]
     },
     "execution_count": 14,
     "metadata": {},
     "output_type": "execute_result"
    }
   ],
   "source": [
    "publications.iloc[1030,:]"
   ]
  },
  {
   "cell_type": "code",
   "execution_count": 17,
   "metadata": {
    "scrolled": true
   },
   "outputs": [
    {
     "name": "stdout",
     "output_type": "stream",
     "text": [
      "https://www.instagram.com/p/B-1bJrPAzn8/\n",
      "Another week of playing inside and staying active. Thanks to everyone for trying to beat me 😉 maybe next time! Over to you @bebe_vio. Get ready! #livingroomcup #playinside\n",
      "22995\n",
      "15 023 197\n",
      "2020-04-11T09:02:26.000Z\n",
      "Video\n",
      "https://www.instagram.com/p/B-4diisg0GA/\n",
      "We wish a Happy Easter to everyone 🌍❤️🙏\n",
      "#stayhome\n",
      "62374\n",
      "9 661 595\n",
      "2020-04-12T13:18:16.000Z\n",
      "Photo\n",
      "https://www.instagram.com/p/B-6_3FugRaE/\n",
      ".\n",
      "\n",
      "Kids, let the Dad do his work 🤷🏻‍♂️❤️😝 #stayhome #stayactive\n",
      "108402\n",
      "43 461 735\n",
      "2020-04-13T12:57:43.000Z\n",
      "Video\n",
      "https://www.instagram.com/p/B-S6P4bAMV4/\n",
      "Feeling very thankful to have my mum home from hospital and recovering. Look after your families and loved ones. #stayhomesavelives\n",
      "62612\n",
      "9 435 216\n",
      "2020-03-28T23:17:59.000Z\n",
      "Photo\n",
      "https://www.instagram.com/p/B-W85F7Asr8/\n",
      "In this difficult moment for the whole world, let’s be thankful for the things that matter - our health, our family, our loved ones. Stay home and let’s help all the health workers out there fighting to save lives.🙏🏽❤️🌈 #stayhomesavelives\n",
      "67666\n",
      "9 668 362\n",
      "2020-03-30T12:58:03.000Z\n",
      "Photo\n",
      "https://www.instagram.com/p/B-b6f7_gooQ/\n",
      "Breathe in, breathe out.🧘‍♂️ Stay active🏃🏻‍♂️ #stayhomesavelives\n",
      "105639\n",
      "12 111 112\n",
      "2020-04-01T11:13:21.000Z\n",
      "Photo\n",
      "https://www.instagram.com/p/B-jykkWAhiM/\n",
      "Stay home and keep stylish 💇🏽‍♂️👩‍❤️‍💋‍👨 #stayhomestaysafe\n",
      "173647\n",
      "65 086 180\n",
      "2020-04-04T12:40:16.000Z\n",
      "Video\n",
      "https://www.instagram.com/p/B-mvvtxA_6D/\n",
      "Hey guys, I have a new challenge for you to stay active: the Living Room Cup 🏆. Can you step up and beat my core crusher record? Show me what you got and use #livingroomcup #playinside @nike @cristiano so I can 👀 you!\n",
      "93358\n",
      "43 202 080\n",
      "2020-04-05T16:11:33.000Z\n",
      "Video\n",
      "https://www.instagram.com/p/B-t9UMlAcP0/\n",
      "My beautiful training partner!🏃🏻‍♀️💪🏽\n",
      "#stayactive #stayhome\n",
      "97695\n",
      "50 481 054\n",
      "2020-04-08T11:25:25.000Z\n",
      "Video\n",
      "https://www.instagram.com/p/B-z8BjjgiZb/\n",
      "In this very difficult moment for our world it is important we unite and support each other. Let’s all do what we can to help. #beyondthemask #nevergiveup\n",
      "63254\n",
      "10 166 236\n",
      "2020-04-10T19:08:27.000Z\n",
      "Photo\n"
     ]
    }
   ],
   "source": [
    "df_post = []\n",
    "driver_path = r\"C:\\Users\\basti\\DataCamp\\Projet_Groupe\\chromedriver.exe\"\n",
    "scrapper = Scrapper(driver_path)\n",
    "user_name = \"datcamp76\"\n",
    "password= \"$datacamp76$\"\n",
    "instagram_account_link = publications.iloc[1,0]\n",
    "browser = scrapper.connection_instagram(instagram_account_link, user_name, password)\n",
    "for i in range(len(publications[0:10])): \n",
    "    pub = publications.iloc[i,1]\n",
    "    df = get_pub_info(scrapper, browser, pub, instagram_account_link, user_name, password)\n",
    "    df_post.append(df)"
   ]
  },
  {
   "cell_type": "code",
   "execution_count": 19,
   "metadata": {},
   "outputs": [
    {
     "data": {
      "text/html": [
       "<div>\n",
       "<style scoped>\n",
       "    .dataframe tbody tr th:only-of-type {\n",
       "        vertical-align: middle;\n",
       "    }\n",
       "\n",
       "    .dataframe tbody tr th {\n",
       "        vertical-align: top;\n",
       "    }\n",
       "\n",
       "    .dataframe thead th {\n",
       "        text-align: right;\n",
       "    }\n",
       "</style>\n",
       "<table border=\"1\" class=\"dataframe\">\n",
       "  <thead>\n",
       "    <tr style=\"text-align: right;\">\n",
       "      <th></th>\n",
       "      <th>Links to publication</th>\n",
       "      <th>Post description</th>\n",
       "      <th>Post number of comments</th>\n",
       "      <th>Post number of likes</th>\n",
       "      <th>Posting date</th>\n",
       "      <th>Media Type</th>\n",
       "    </tr>\n",
       "  </thead>\n",
       "  <tbody>\n",
       "    <tr>\n",
       "      <th>0</th>\n",
       "      <td>https://www.instagram.com/p/B-1bJrPAzn8/</td>\n",
       "      <td>Another week of playing inside and staying act...</td>\n",
       "      <td>22995</td>\n",
       "      <td>15 023 197</td>\n",
       "      <td>2020-04-11T09:02:26.000Z</td>\n",
       "      <td>Video</td>\n",
       "    </tr>\n",
       "    <tr>\n",
       "      <th>1</th>\n",
       "      <td>https://www.instagram.com/p/B-4diisg0GA/</td>\n",
       "      <td>We wish a Happy Easter to everyone 🌍❤️🙏\\n#stay...</td>\n",
       "      <td>62374</td>\n",
       "      <td>9 661 595</td>\n",
       "      <td>2020-04-12T13:18:16.000Z</td>\n",
       "      <td>Photo</td>\n",
       "    </tr>\n",
       "    <tr>\n",
       "      <th>2</th>\n",
       "      <td>https://www.instagram.com/p/B-6_3FugRaE/</td>\n",
       "      <td>.\\n\\nKids, let the Dad do his work 🤷🏻‍♂️❤️😝 #s...</td>\n",
       "      <td>108402</td>\n",
       "      <td>43 461 735</td>\n",
       "      <td>2020-04-13T12:57:43.000Z</td>\n",
       "      <td>Video</td>\n",
       "    </tr>\n",
       "    <tr>\n",
       "      <th>3</th>\n",
       "      <td>https://www.instagram.com/p/B-S6P4bAMV4/</td>\n",
       "      <td>Feeling very thankful to have my mum home from...</td>\n",
       "      <td>62612</td>\n",
       "      <td>9 435 216</td>\n",
       "      <td>2020-03-28T23:17:59.000Z</td>\n",
       "      <td>Photo</td>\n",
       "    </tr>\n",
       "    <tr>\n",
       "      <th>4</th>\n",
       "      <td>https://www.instagram.com/p/B-W85F7Asr8/</td>\n",
       "      <td>In this difficult moment for the whole world, ...</td>\n",
       "      <td>67666</td>\n",
       "      <td>9 668 362</td>\n",
       "      <td>2020-03-30T12:58:03.000Z</td>\n",
       "      <td>Photo</td>\n",
       "    </tr>\n",
       "    <tr>\n",
       "      <th>5</th>\n",
       "      <td>https://www.instagram.com/p/B-b6f7_gooQ/</td>\n",
       "      <td>Breathe in, breathe out.🧘‍♂️ Stay active🏃🏻‍♂️ ...</td>\n",
       "      <td>105639</td>\n",
       "      <td>12 111 112</td>\n",
       "      <td>2020-04-01T11:13:21.000Z</td>\n",
       "      <td>Photo</td>\n",
       "    </tr>\n",
       "    <tr>\n",
       "      <th>6</th>\n",
       "      <td>https://www.instagram.com/p/B-jykkWAhiM/</td>\n",
       "      <td>Stay home and keep stylish 💇🏽‍♂️👩‍❤️‍💋‍👨 #stay...</td>\n",
       "      <td>173647</td>\n",
       "      <td>65 086 180</td>\n",
       "      <td>2020-04-04T12:40:16.000Z</td>\n",
       "      <td>Video</td>\n",
       "    </tr>\n",
       "    <tr>\n",
       "      <th>7</th>\n",
       "      <td>https://www.instagram.com/p/B-mvvtxA_6D/</td>\n",
       "      <td>Hey guys, I have a new challenge for you to st...</td>\n",
       "      <td>93358</td>\n",
       "      <td>43 202 080</td>\n",
       "      <td>2020-04-05T16:11:33.000Z</td>\n",
       "      <td>Video</td>\n",
       "    </tr>\n",
       "    <tr>\n",
       "      <th>8</th>\n",
       "      <td>https://www.instagram.com/p/B-t9UMlAcP0/</td>\n",
       "      <td>My beautiful training partner!🏃🏻‍♀️💪🏽\\n#stayac...</td>\n",
       "      <td>97695</td>\n",
       "      <td>50 481 054</td>\n",
       "      <td>2020-04-08T11:25:25.000Z</td>\n",
       "      <td>Video</td>\n",
       "    </tr>\n",
       "    <tr>\n",
       "      <th>9</th>\n",
       "      <td>https://www.instagram.com/p/B-z8BjjgiZb/</td>\n",
       "      <td>In this very difficult moment for our world it...</td>\n",
       "      <td>63254</td>\n",
       "      <td>10 166 236</td>\n",
       "      <td>2020-04-10T19:08:27.000Z</td>\n",
       "      <td>Photo</td>\n",
       "    </tr>\n",
       "  </tbody>\n",
       "</table>\n",
       "</div>"
      ],
      "text/plain": [
       "                       Links to publication  \\\n",
       "0  https://www.instagram.com/p/B-1bJrPAzn8/   \n",
       "1  https://www.instagram.com/p/B-4diisg0GA/   \n",
       "2  https://www.instagram.com/p/B-6_3FugRaE/   \n",
       "3  https://www.instagram.com/p/B-S6P4bAMV4/   \n",
       "4  https://www.instagram.com/p/B-W85F7Asr8/   \n",
       "5  https://www.instagram.com/p/B-b6f7_gooQ/   \n",
       "6  https://www.instagram.com/p/B-jykkWAhiM/   \n",
       "7  https://www.instagram.com/p/B-mvvtxA_6D/   \n",
       "8  https://www.instagram.com/p/B-t9UMlAcP0/   \n",
       "9  https://www.instagram.com/p/B-z8BjjgiZb/   \n",
       "\n",
       "                                    Post description  Post number of comments  \\\n",
       "0  Another week of playing inside and staying act...                    22995   \n",
       "1  We wish a Happy Easter to everyone 🌍❤️🙏\\n#stay...                    62374   \n",
       "2  .\\n\\nKids, let the Dad do his work 🤷🏻‍♂️❤️😝 #s...                   108402   \n",
       "3  Feeling very thankful to have my mum home from...                    62612   \n",
       "4  In this difficult moment for the whole world, ...                    67666   \n",
       "5  Breathe in, breathe out.🧘‍♂️ Stay active🏃🏻‍♂️ ...                   105639   \n",
       "6  Stay home and keep stylish 💇🏽‍♂️👩‍❤️‍💋‍👨 #stay...                   173647   \n",
       "7  Hey guys, I have a new challenge for you to st...                    93358   \n",
       "8  My beautiful training partner!🏃🏻‍♀️💪🏽\\n#stayac...                    97695   \n",
       "9  In this very difficult moment for our world it...                    63254   \n",
       "\n",
       "  Post number of likes              Posting date Media Type  \n",
       "0           15 023 197  2020-04-11T09:02:26.000Z      Video  \n",
       "1            9 661 595  2020-04-12T13:18:16.000Z      Photo  \n",
       "2           43 461 735  2020-04-13T12:57:43.000Z      Video  \n",
       "3            9 435 216  2020-03-28T23:17:59.000Z      Photo  \n",
       "4            9 668 362  2020-03-30T12:58:03.000Z      Photo  \n",
       "5           12 111 112  2020-04-01T11:13:21.000Z      Photo  \n",
       "6           65 086 180  2020-04-04T12:40:16.000Z      Video  \n",
       "7           43 202 080  2020-04-05T16:11:33.000Z      Video  \n",
       "8           50 481 054  2020-04-08T11:25:25.000Z      Video  \n",
       "9           10 166 236  2020-04-10T19:08:27.000Z      Photo  "
      ]
     },
     "execution_count": 19,
     "metadata": {},
     "output_type": "execute_result"
    }
   ],
   "source": [
    "posts_info = pd.concat(df_post, ignore_index = True)\n",
    "posts_info"
   ]
  },
  {
   "cell_type": "code",
   "execution_count": null,
   "metadata": {},
   "outputs": [],
   "source": [
    "df_2 = pd.merge(publications, posts_info, how ='right', on =\"Links to publication\")"
   ]
  },
  {
   "cell_type": "code",
   "execution_count": null,
   "metadata": {},
   "outputs": [],
   "source": [
    "df_2"
   ]
  },
  {
   "cell_type": "markdown",
   "metadata": {},
   "source": [
    "### 4. Export"
   ]
  },
  {
   "cell_type": "code",
   "execution_count": null,
   "metadata": {},
   "outputs": [],
   "source": [
    "export_csv = df_2.to_csv (r'C:\\Users\\basti\\DataCamp\\Projet_Groupe\\data\\bastien\\Final dataset\\influencers_0_10.csv', index = None, header=True) "
   ]
  }
 ],
 "metadata": {
  "kernelspec": {
   "display_name": "Python 3",
   "language": "python",
   "name": "python3"
  },
  "language_info": {
   "codemirror_mode": {
    "name": "ipython",
    "version": 3
   },
   "file_extension": ".py",
   "mimetype": "text/x-python",
   "name": "python",
   "nbconvert_exporter": "python",
   "pygments_lexer": "ipython3",
   "version": "3.7.6"
  }
 },
 "nbformat": 4,
 "nbformat_minor": 2
}
