{
 "cells": [
  {
   "cell_type": "markdown",
   "metadata": {},
   "source": [
    "<center> \n",
    "    <h1> \n",
    "        Data Camp Project"
   ]
  },
  {
   "cell_type": "markdown",
   "metadata": {},
   "source": [
    " <center>\n",
    "    <h1> \n",
    "        Prediction of the engagement rate on Instagram"
   ]
  },
  {
   "cell_type": "markdown",
   "metadata": {},
   "source": [
    "# Table of content\n",
    "1. [Introduction](#Introduction)\n",
    "    - [Growing influence of Instagram](#See_later)\n",
    "    - [Definition of the problem : Quantify the reaction to a post](#See_later)\n",
    "2. [Data exploration](#Data_exploration)\n",
    "    - [Data Processing](#Data_Processing)\n",
    "    - [See later](#See_later)\n",
    "    - [See later](#See_later)\n",
    "3. [Workflow](#Workflow)\n",
    "4. [Submission](#Submission)"
   ]
  },
  {
   "cell_type": "markdown",
   "metadata": {},
   "source": [
    "# Import"
   ]
  },
  {
   "cell_type": "code",
   "execution_count": 1,
   "metadata": {},
   "outputs": [],
   "source": [
    "import numpy as np\n",
    "import pandas as pd\n",
    "import matplotlib.pyplot as plt\n",
    "%matplotlib inline\n",
    "import seaborn as sns\n",
    "sns.set()"
   ]
  },
  {
   "cell_type": "markdown",
   "metadata": {},
   "source": [
    "# Introduction"
   ]
  },
  {
   "cell_type": "markdown",
   "metadata": {},
   "source": [
    "## Growing influence of Instagram"
   ]
  },
  {
   "cell_type": "markdown",
   "metadata": {},
   "source": [
    "The leading treads towards social networking services had drawn massive\n",
    "public attention from last one and half decade. The amount of data that is\n",
    "uploaded to these social networking services is increasing day by day. So,\n",
    "there is massive requirement to study the highly dynamic behavior of users\n",
    "towards these services. Let's now focus of one the most used social networks : Instagram \n",
    "\n",
    "Instagram is an American photo and video sharing social networking service. In 2018, Instagram has reached 1 billion monthly active users. "
   ]
  },
  {
   "cell_type": "markdown",
   "metadata": {},
   "source": [
    "## Definition of the problem : Quantify the reaction to a post"
   ]
  },
  {
   "cell_type": "markdown",
   "metadata": {},
   "source": [
    "Aim : Predict the engagment rate by instagramers\n",
    "\n",
    "Scoring : \"Root mean square error\" which is defined by the following formula : \n",
    "\n",
    "    "
   ]
  },
  {
   "cell_type": "markdown",
   "metadata": {},
   "source": [
    "# Data exploration"
   ]
  },
  {
   "cell_type": "code",
   "execution_count": 23,
   "metadata": {},
   "outputs": [
    {
     "data": {
      "text/plain": [
       "(1072, 17)"
      ]
     },
     "execution_count": 23,
     "metadata": {},
     "output_type": "execute_result"
    }
   ],
   "source": [
    "df = pd.read_csv('cr7.csv')\n",
    "df = df = df.iloc[:1072,:]\n",
    "df.shape"
   ]
  },
  {
   "cell_type": "markdown",
   "metadata": {},
   "source": [
    "## Data Processing"
   ]
  },
  {
   "cell_type": "code",
   "execution_count": 24,
   "metadata": {},
   "outputs": [
    {
     "data": {
      "text/html": [
       "<div>\n",
       "<style scoped>\n",
       "    .dataframe tbody tr th:only-of-type {\n",
       "        vertical-align: middle;\n",
       "    }\n",
       "\n",
       "    .dataframe tbody tr th {\n",
       "        vertical-align: top;\n",
       "    }\n",
       "\n",
       "    .dataframe thead th {\n",
       "        text-align: right;\n",
       "    }\n",
       "</style>\n",
       "<table border=\"1\" class=\"dataframe\">\n",
       "  <thead>\n",
       "    <tr style=\"text-align: right;\">\n",
       "      <th></th>\n",
       "      <th>Links to profile</th>\n",
       "      <th>Links to publication_gen_info</th>\n",
       "      <th>Name Account/Influencer</th>\n",
       "      <th>Professional Activity</th>\n",
       "      <th>Nationality</th>\n",
       "      <th>Brand</th>\n",
       "      <th>Account description</th>\n",
       "      <th>Number of posts</th>\n",
       "      <th>Number of followers</th>\n",
       "      <th>Number of followings</th>\n",
       "      <th>Verified Status</th>\n",
       "      <th>Links to publication_pub_info</th>\n",
       "      <th>Post description</th>\n",
       "      <th>Post number of comments</th>\n",
       "      <th>Post number of likes</th>\n",
       "      <th>Posting date</th>\n",
       "      <th>Media Type</th>\n",
       "    </tr>\n",
       "  </thead>\n",
       "  <tbody>\n",
       "    <tr>\n",
       "      <th>0</th>\n",
       "      <td>https://www.instagram.com/cristiano/</td>\n",
       "      <td>https://www.instagram.com/p/-1JhCoBpan/</td>\n",
       "      <td>Cristiano Ronaldo</td>\n",
       "      <td>Footballeur</td>\n",
       "      <td>Portugal</td>\n",
       "      <td>Non</td>\n",
       "      <td>Cristiano Ronaldo</td>\n",
       "      <td>2 982 publications</td>\n",
       "      <td>252 764 771</td>\n",
       "      <td>459</td>\n",
       "      <td>Vérifié</td>\n",
       "      <td>h</td>\n",
       "      <td>Dedication ✌️👌👍💪🏽☀️</td>\n",
       "      <td>5493.0</td>\n",
       "      <td>887 059</td>\n",
       "      <td>2015-12-03T12:56:22.000Z</td>\n",
       "      <td>Photo</td>\n",
       "    </tr>\n",
       "    <tr>\n",
       "      <th>1</th>\n",
       "      <td>https://www.instagram.com/cristiano/</td>\n",
       "      <td>https://www.instagram.com/p/-1dEuSBpet/</td>\n",
       "      <td>Cristiano Ronaldo</td>\n",
       "      <td>Footballeur</td>\n",
       "      <td>Portugal</td>\n",
       "      <td>Non</td>\n",
       "      <td>Cristiano Ronaldo</td>\n",
       "      <td>2 982 publications</td>\n",
       "      <td>252 764 771</td>\n",
       "      <td>459</td>\n",
       "      <td>Vérifié</td>\n",
       "      <td>h</td>\n",
       "      <td>Job done!👌👔☀️ @sacoorbrothers</td>\n",
       "      <td>8546.0</td>\n",
       "      <td>1 064 362</td>\n",
       "      <td>2015-12-03T15:47:15.000Z</td>\n",
       "      <td>Photo</td>\n",
       "    </tr>\n",
       "  </tbody>\n",
       "</table>\n",
       "</div>"
      ],
      "text/plain": [
       "                       Links to profile  \\\n",
       "0  https://www.instagram.com/cristiano/   \n",
       "1  https://www.instagram.com/cristiano/   \n",
       "\n",
       "             Links to publication_gen_info Name Account/Influencer  \\\n",
       "0  https://www.instagram.com/p/-1JhCoBpan/       Cristiano Ronaldo   \n",
       "1  https://www.instagram.com/p/-1dEuSBpet/       Cristiano Ronaldo   \n",
       "\n",
       "  Professional Activity Nationality Brand Account description  \\\n",
       "0           Footballeur    Portugal   Non   Cristiano Ronaldo   \n",
       "1           Footballeur    Portugal   Non   Cristiano Ronaldo   \n",
       "\n",
       "      Number of posts Number of followers  Number of followings  \\\n",
       "0  2 982 publications         252 764 771                   459   \n",
       "1  2 982 publications         252 764 771                   459   \n",
       "\n",
       "  Verified Status Links to publication_pub_info  \\\n",
       "0         Vérifié                             h   \n",
       "1         Vérifié                             h   \n",
       "\n",
       "                Post description  Post number of comments  \\\n",
       "0            Dedication ✌️👌👍💪🏽☀️                   5493.0   \n",
       "1  Job done!👌👔☀️ @sacoorbrothers                   8546.0   \n",
       "\n",
       "  Post number of likes              Posting date Media Type  \n",
       "0              887 059  2015-12-03T12:56:22.000Z      Photo  \n",
       "1            1 064 362  2015-12-03T15:47:15.000Z      Photo  "
      ]
     },
     "execution_count": 24,
     "metadata": {},
     "output_type": "execute_result"
    }
   ],
   "source": [
    "df.head(2)"
   ]
  },
  {
   "cell_type": "code",
   "execution_count": 25,
   "metadata": {},
   "outputs": [],
   "source": [
    "df['Brand'] = df['Brand'].replace({'Non':0})\n",
    "df['Verified Status'] = df['Verified Status'].replace({'Vérifié':0})\n",
    "df['Media Type'] = df['Media Type'].replace({'Photo':0, 'Video':19})"
   ]
  },
  {
   "cell_type": "code",
   "execution_count": 26,
   "metadata": {},
   "outputs": [],
   "source": [
    "df['Posting date'] = df['Posting date'].apply(lambda x : x.replace(':','-'))\n",
    "df['Posting date'] = df['Posting date'].apply(lambda x : x.replace('T','-'))\n",
    "df['Posting date'] = df['Posting date'].apply(lambda x : x.split('-'))\n",
    "\n",
    "df['year of posting'] = df['Posting date'].apply(lambda x : x[0])\n",
    "df['month of posting'] = df['Posting date'].apply(lambda x : x[1])\n",
    "df['day of posting'] = df['Posting date'].apply(lambda x : x[2])\n",
    "df['hour of posting'] = df['Posting date'].apply(lambda x : x[3])\n",
    "\n",
    "df = df.drop(columns = ['Posting date'])"
   ]
  },
  {
   "cell_type": "code",
   "execution_count": 27,
   "metadata": {},
   "outputs": [
    {
     "data": {
      "text/html": [
       "<div>\n",
       "<style scoped>\n",
       "    .dataframe tbody tr th:only-of-type {\n",
       "        vertical-align: middle;\n",
       "    }\n",
       "\n",
       "    .dataframe tbody tr th {\n",
       "        vertical-align: top;\n",
       "    }\n",
       "\n",
       "    .dataframe thead th {\n",
       "        text-align: right;\n",
       "    }\n",
       "</style>\n",
       "<table border=\"1\" class=\"dataframe\">\n",
       "  <thead>\n",
       "    <tr style=\"text-align: right;\">\n",
       "      <th></th>\n",
       "      <th>Links to profile</th>\n",
       "      <th>Links to publication_gen_info</th>\n",
       "      <th>Name Account/Influencer</th>\n",
       "      <th>Professional Activity</th>\n",
       "      <th>Nationality</th>\n",
       "      <th>Brand</th>\n",
       "      <th>Account description</th>\n",
       "      <th>Number of posts</th>\n",
       "      <th>Number of followers</th>\n",
       "      <th>Number of followings</th>\n",
       "      <th>Verified Status</th>\n",
       "      <th>Links to publication_pub_info</th>\n",
       "      <th>Post description</th>\n",
       "      <th>Post number of comments</th>\n",
       "      <th>Post number of likes</th>\n",
       "      <th>Media Type</th>\n",
       "      <th>year of posting</th>\n",
       "      <th>month of posting</th>\n",
       "      <th>day of posting</th>\n",
       "      <th>hour of posting</th>\n",
       "    </tr>\n",
       "  </thead>\n",
       "  <tbody>\n",
       "    <tr>\n",
       "      <th>0</th>\n",
       "      <td>https://www.instagram.com/cristiano/</td>\n",
       "      <td>https://www.instagram.com/p/-1JhCoBpan/</td>\n",
       "      <td>Cristiano Ronaldo</td>\n",
       "      <td>Footballeur</td>\n",
       "      <td>Portugal</td>\n",
       "      <td>0</td>\n",
       "      <td>Cristiano Ronaldo</td>\n",
       "      <td>2 982 publications</td>\n",
       "      <td>252 764 771</td>\n",
       "      <td>459</td>\n",
       "      <td>0</td>\n",
       "      <td>h</td>\n",
       "      <td>Dedication ✌️👌👍💪🏽☀️</td>\n",
       "      <td>5493.0</td>\n",
       "      <td>887 059</td>\n",
       "      <td>0</td>\n",
       "      <td>2015</td>\n",
       "      <td>12</td>\n",
       "      <td>03</td>\n",
       "      <td>12</td>\n",
       "    </tr>\n",
       "    <tr>\n",
       "      <th>1</th>\n",
       "      <td>https://www.instagram.com/cristiano/</td>\n",
       "      <td>https://www.instagram.com/p/-1dEuSBpet/</td>\n",
       "      <td>Cristiano Ronaldo</td>\n",
       "      <td>Footballeur</td>\n",
       "      <td>Portugal</td>\n",
       "      <td>0</td>\n",
       "      <td>Cristiano Ronaldo</td>\n",
       "      <td>2 982 publications</td>\n",
       "      <td>252 764 771</td>\n",
       "      <td>459</td>\n",
       "      <td>0</td>\n",
       "      <td>h</td>\n",
       "      <td>Job done!👌👔☀️ @sacoorbrothers</td>\n",
       "      <td>8546.0</td>\n",
       "      <td>1 064 362</td>\n",
       "      <td>0</td>\n",
       "      <td>2015</td>\n",
       "      <td>12</td>\n",
       "      <td>03</td>\n",
       "      <td>15</td>\n",
       "    </tr>\n",
       "  </tbody>\n",
       "</table>\n",
       "</div>"
      ],
      "text/plain": [
       "                       Links to profile  \\\n",
       "0  https://www.instagram.com/cristiano/   \n",
       "1  https://www.instagram.com/cristiano/   \n",
       "\n",
       "             Links to publication_gen_info Name Account/Influencer  \\\n",
       "0  https://www.instagram.com/p/-1JhCoBpan/       Cristiano Ronaldo   \n",
       "1  https://www.instagram.com/p/-1dEuSBpet/       Cristiano Ronaldo   \n",
       "\n",
       "  Professional Activity Nationality  Brand Account description  \\\n",
       "0           Footballeur    Portugal      0   Cristiano Ronaldo   \n",
       "1           Footballeur    Portugal      0   Cristiano Ronaldo   \n",
       "\n",
       "      Number of posts Number of followers  Number of followings  \\\n",
       "0  2 982 publications         252 764 771                   459   \n",
       "1  2 982 publications         252 764 771                   459   \n",
       "\n",
       "   Verified Status Links to publication_pub_info  \\\n",
       "0                0                             h   \n",
       "1                0                             h   \n",
       "\n",
       "                Post description  Post number of comments  \\\n",
       "0            Dedication ✌️👌👍💪🏽☀️                   5493.0   \n",
       "1  Job done!👌👔☀️ @sacoorbrothers                   8546.0   \n",
       "\n",
       "  Post number of likes  Media Type year of posting month of posting  \\\n",
       "0              887 059           0            2015               12   \n",
       "1            1 064 362           0            2015               12   \n",
       "\n",
       "  day of posting hour of posting  \n",
       "0             03              12  \n",
       "1             03              15  "
      ]
     },
     "execution_count": 27,
     "metadata": {},
     "output_type": "execute_result"
    }
   ],
   "source": [
    "df.head(2)"
   ]
  },
  {
   "cell_type": "markdown",
   "metadata": {},
   "source": [
    "# Workflow"
   ]
  },
  {
   "cell_type": "markdown",
   "metadata": {},
   "source": [
    "The work flow is composed of two essential elements that make up the submission: the feature extractor and the regressor. The first allows both the preparation of initial data and the creation of new variables. The second, on the other hand, allows a supervised learning model to be trained so that the engagement rate on Instagram's post can be correctly predicted. This model is trained on a part of the base obtained from the feature extractor output, then is evaluated on the remaining part."
   ]
  },
  {
   "cell_type": "markdown",
   "metadata": {},
   "source": [
    "# Submission"
   ]
  },
  {
   "cell_type": "code",
   "execution_count": null,
   "metadata": {},
   "outputs": [],
   "source": []
  }
 ],
 "metadata": {
  "kernelspec": {
   "display_name": "Python 3",
   "language": "python",
   "name": "python3"
  },
  "language_info": {
   "codemirror_mode": {
    "name": "ipython",
    "version": 3
   },
   "file_extension": ".py",
   "mimetype": "text/x-python",
   "name": "python",
   "nbconvert_exporter": "python",
   "pygments_lexer": "ipython3",
   "version": "3.7.0"
  }
 },
 "nbformat": 4,
 "nbformat_minor": 2
}
