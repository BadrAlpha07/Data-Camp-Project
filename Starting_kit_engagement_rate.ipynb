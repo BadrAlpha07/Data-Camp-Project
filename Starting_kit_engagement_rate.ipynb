{
 "cells": [
  {
   "cell_type": "markdown",
   "metadata": {},
   "source": [
    "<center> \n",
    "    <h1> \n",
    "        Data Camp Project"
   ]
  },
  {
   "cell_type": "markdown",
   "metadata": {},
   "source": [
    " <center>\n",
    "    <h1> \n",
    "        Prediction of the engagement rate on Instagram"
   ]
  },
  {
   "cell_type": "markdown",
   "metadata": {},
   "source": [
    "# Table of content\n",
    "1. [Introduction](#Introduction)\n",
    "    - [Growing influence of Instagram](#See_later)\n",
    "    - [Definition of the problem : Quantify the reaction to a post](#See_later)\n",
    "2. [Data exploration](#Data_exploration)\n",
    "    - [Data Processing](#Data_Processing)\n",
    "    - [See later](#See_later)\n",
    "    - [See later](#See_later)\n",
    "3. [Workflow](#Workflow)\n",
    "4. [Submission](#Submission)"
   ]
  },
  {
   "cell_type": "markdown",
   "metadata": {},
   "source": [
    "# Import"
   ]
  },
  {
   "cell_type": "code",
   "execution_count": 2,
   "metadata": {},
   "outputs": [],
   "source": [
    "import numpy as np\n",
    "import pandas as pd\n",
    "import matplotlib.pyplot as plt\n",
    "%matplotlib inline\n",
    "import seaborn as sns\n",
    "sns.set()"
   ]
  },
  {
   "cell_type": "markdown",
   "metadata": {},
   "source": [
    "# Introduction"
   ]
  },
  {
   "cell_type": "markdown",
   "metadata": {},
   "source": [
    "## Growing influence of Instagram"
   ]
  },
  {
   "cell_type": "markdown",
   "metadata": {},
   "source": [
    "The leading treads towards social networking services had drawn massive\n",
    "public attention from last one and half decade. The amount of data that is\n",
    "uploaded to these social networking services is increasing day by day. So,\n",
    "there is massive requirement to study the highly dynamic behavior of users\n",
    "towards these services. Let's now focus of one the most used social networks : Instagram \n",
    "\n",
    "Instagram is an American photo and video sharing social networking service. In 2018, Instagram has reached 1 billion monthly active users. "
   ]
  },
  {
   "cell_type": "markdown",
   "metadata": {},
   "source": [
    "## Definition of the problem : Quantify the reaction to a post"
   ]
  },
  {
   "cell_type": "markdown",
   "metadata": {},
   "source": [
    "Aim : Predict the engagment rate by instagramers\n",
    "\n",
    "Scoring : \"Root mean square error\" which is defined by the following formula : \n",
    "\n",
    "    "
   ]
  },
  {
   "cell_type": "markdown",
   "metadata": {},
   "source": [
    "# Data exploration"
   ]
  },
  {
   "cell_type": "code",
   "execution_count": 27,
   "metadata": {},
   "outputs": [
    {
     "data": {
      "text/plain": [
       "(453, 16)"
      ]
     },
     "execution_count": 27,
     "metadata": {},
     "output_type": "execute_result"
    }
   ],
   "source": [
    "df = pd.read_csv('data1.csv')\n",
    "df.shape"
   ]
  },
  {
   "cell_type": "markdown",
   "metadata": {},
   "source": [
    "## Data Processing"
   ]
  },
  {
   "cell_type": "code",
   "execution_count": 28,
   "metadata": {},
   "outputs": [],
   "source": [
    "df['Brand'] = df['Brand'].replace({'Non':0})\n",
    "df['Verified Status'] = df['Verified Status'].replace({'Vérifié':0})\n",
    "df['Media Type'] = df['Media Type'].replace({'Photo':0, 'Video':19})"
   ]
  },
  {
   "cell_type": "code",
   "execution_count": 29,
   "metadata": {},
   "outputs": [
    {
     "data": {
      "text/html": [
       "<div>\n",
       "<style scoped>\n",
       "    .dataframe tbody tr th:only-of-type {\n",
       "        vertical-align: middle;\n",
       "    }\n",
       "\n",
       "    .dataframe tbody tr th {\n",
       "        vertical-align: top;\n",
       "    }\n",
       "\n",
       "    .dataframe thead th {\n",
       "        text-align: right;\n",
       "    }\n",
       "</style>\n",
       "<table border=\"1\" class=\"dataframe\">\n",
       "  <thead>\n",
       "    <tr style=\"text-align: right;\">\n",
       "      <th></th>\n",
       "      <th>Links to profile</th>\n",
       "      <th>Name Account/Influencer</th>\n",
       "      <th>Professional Activity</th>\n",
       "      <th>Nationality</th>\n",
       "      <th>Brand</th>\n",
       "      <th>Account description</th>\n",
       "      <th>Number of posts</th>\n",
       "      <th>Number of followers</th>\n",
       "      <th>Number of followings</th>\n",
       "      <th>Verified Status</th>\n",
       "      <th>Publication number</th>\n",
       "      <th>Post description</th>\n",
       "      <th>Post number of comments</th>\n",
       "      <th>Post number of likes</th>\n",
       "      <th>Posting date</th>\n",
       "      <th>Media Type</th>\n",
       "    </tr>\n",
       "  </thead>\n",
       "  <tbody>\n",
       "    <tr>\n",
       "      <th>0</th>\n",
       "      <td>https://www.instagram.com/cristiano/</td>\n",
       "      <td>Cristiano Ronaldo</td>\n",
       "      <td>Footballeur</td>\n",
       "      <td>Portugal</td>\n",
       "      <td>0</td>\n",
       "      <td>Cristiano Ronaldo</td>\n",
       "      <td>2 981 publications</td>\n",
       "      <td>252 552 534</td>\n",
       "      <td>459</td>\n",
       "      <td>0</td>\n",
       "      <td>1</td>\n",
       "      <td>Dedication ✌️👌👍💪🏽☀️</td>\n",
       "      <td>5493</td>\n",
       "      <td>887 061</td>\n",
       "      <td>2015-12-03T12:56:22.000Z</td>\n",
       "      <td>0</td>\n",
       "    </tr>\n",
       "    <tr>\n",
       "      <th>1</th>\n",
       "      <td>https://www.instagram.com/cristiano/</td>\n",
       "      <td>Cristiano Ronaldo</td>\n",
       "      <td>Footballeur</td>\n",
       "      <td>Portugal</td>\n",
       "      <td>0</td>\n",
       "      <td>Cristiano Ronaldo</td>\n",
       "      <td>2 981 publications</td>\n",
       "      <td>252 552 534</td>\n",
       "      <td>459</td>\n",
       "      <td>0</td>\n",
       "      <td>2</td>\n",
       "      <td>Job done!👌👔☀️ @sacoorbrothers</td>\n",
       "      <td>8546</td>\n",
       "      <td>1 064 362</td>\n",
       "      <td>2015-12-03T15:47:15.000Z</td>\n",
       "      <td>0</td>\n",
       "    </tr>\n",
       "    <tr>\n",
       "      <th>2</th>\n",
       "      <td>https://www.instagram.com/cristiano/</td>\n",
       "      <td>Cristiano Ronaldo</td>\n",
       "      <td>Footballeur</td>\n",
       "      <td>Portugal</td>\n",
       "      <td>0</td>\n",
       "      <td>Cristiano Ronaldo</td>\n",
       "      <td>2 981 publications</td>\n",
       "      <td>252 552 534</td>\n",
       "      <td>459</td>\n",
       "      <td>0</td>\n",
       "      <td>3</td>\n",
       "      <td>Good night ✌️👍⚽️❤️💋</td>\n",
       "      <td>8604</td>\n",
       "      <td>1 117 266</td>\n",
       "      <td>2015-12-03T23:12:03.000Z</td>\n",
       "      <td>0</td>\n",
       "    </tr>\n",
       "  </tbody>\n",
       "</table>\n",
       "</div>"
      ],
      "text/plain": [
       "                       Links to profile Name Account/Influencer  \\\n",
       "0  https://www.instagram.com/cristiano/       Cristiano Ronaldo   \n",
       "1  https://www.instagram.com/cristiano/       Cristiano Ronaldo   \n",
       "2  https://www.instagram.com/cristiano/       Cristiano Ronaldo   \n",
       "\n",
       "  Professional Activity Nationality  Brand Account description  \\\n",
       "0           Footballeur    Portugal      0   Cristiano Ronaldo   \n",
       "1           Footballeur    Portugal      0   Cristiano Ronaldo   \n",
       "2           Footballeur    Portugal      0   Cristiano Ronaldo   \n",
       "\n",
       "      Number of posts Number of followers  Number of followings  \\\n",
       "0  2 981 publications         252 552 534                   459   \n",
       "1  2 981 publications         252 552 534                   459   \n",
       "2  2 981 publications         252 552 534                   459   \n",
       "\n",
       "   Verified Status  Publication number               Post description  \\\n",
       "0                0                   1            Dedication ✌️👌👍💪🏽☀️   \n",
       "1                0                   2  Job done!👌👔☀️ @sacoorbrothers   \n",
       "2                0                   3            Good night ✌️👍⚽️❤️💋   \n",
       "\n",
       "   Post number of comments Post number of likes              Posting date  \\\n",
       "0                     5493              887 061  2015-12-03T12:56:22.000Z   \n",
       "1                     8546            1 064 362  2015-12-03T15:47:15.000Z   \n",
       "2                     8604            1 117 266  2015-12-03T23:12:03.000Z   \n",
       "\n",
       "   Media Type  \n",
       "0           0  \n",
       "1           0  \n",
       "2           0  "
      ]
     },
     "execution_count": 29,
     "metadata": {},
     "output_type": "execute_result"
    }
   ],
   "source": [
    "df.head(3)"
   ]
  },
  {
   "cell_type": "code",
   "execution_count": 30,
   "metadata": {},
   "outputs": [
    {
     "data": {
      "text/plain": [
       "0      [2015, 12, 03, 12, 56, 22.000Z]\n",
       "1      [2015, 12, 03, 15, 47, 15.000Z]\n",
       "2      [2015, 12, 03, 23, 12, 03.000Z]\n",
       "3      [2015, 12, 04, 12, 07, 55.000Z]\n",
       "4      [2015, 12, 04, 15, 46, 47.000Z]\n",
       "                    ...               \n",
       "448    [2019, 09, 19, 09, 58, 06.000Z]\n",
       "449    [2019, 09, 21, 19, 41, 42.000Z]\n",
       "450    [2019, 09, 23, 20, 20, 59.000Z]\n",
       "451    [2019, 10, 19, 22, 47, 28.000Z]\n",
       "452    [2019, 10, 21, 16, 43, 46.000Z]\n",
       "Name: Posting date, Length: 453, dtype: object"
      ]
     },
     "execution_count": 30,
     "metadata": {},
     "output_type": "execute_result"
    }
   ],
   "source": [
    "df['Posting date'] = df['Posting date'].apply(lambda x : x.replace(':','-'))\n",
    "df['Posting date'] = df['Posting date'].apply(lambda x : x.replace('T','-'))\n",
    "df['Posting date'] = df['Posting date'].apply(lambda x : x.split('-'))\n",
    "\n",
    "df['year of posting'] = df['Posting date'].apply(lambda x : x[0])\n",
    "df['month of posting'] = df['Posting date'].apply(lambda x : x[1])\n",
    "df['day of posting'] = df['Posting date'].apply(lambda x : x[2])\n",
    "df['hour of posting'] = df['Posting date'].apply(lambda x : x[3])"
   ]
  },
  {
   "cell_type": "code",
   "execution_count": 16,
   "metadata": {},
   "outputs": [
    {
     "data": {
      "text/plain": [
       "0      [2015, 12, 03T12:56:22.000Z]\n",
       "1      [2015, 12, 03T15:47:15.000Z]\n",
       "2      [2015, 12, 03T23:12:03.000Z]\n",
       "3      [2015, 12, 04T12:07:55.000Z]\n",
       "4      [2015, 12, 04T15:46:47.000Z]\n",
       "                   ...             \n",
       "448    [2019, 09, 19T09:58:06.000Z]\n",
       "449    [2019, 09, 21T19:41:42.000Z]\n",
       "450    [2019, 09, 23T20:20:59.000Z]\n",
       "451    [2019, 10, 19T22:47:28.000Z]\n",
       "452    [2019, 10, 21T16:43:46.000Z]\n",
       "Name: Posting date, Length: 453, dtype: object"
      ]
     },
     "execution_count": 16,
     "metadata": {},
     "output_type": "execute_result"
    }
   ],
   "source": [
    "df['Posting date'].apply(lambda x : x.split('-'))"
   ]
  },
  {
   "cell_type": "markdown",
   "metadata": {},
   "source": [
    "# Workflow"
   ]
  },
  {
   "cell_type": "markdown",
   "metadata": {},
   "source": [
    "The work flow is composed of two essential elements that make up the submission: the feature extractor and the regressor. The first allows both the preparation of initial data and the creation of new variables. The second, on the other hand, allows a supervised learning model to be trained so that the engagement rate on Instagram's post can be correctly predicted. This model is trained on a part of the base obtained from the feature extractor output, then is evaluated on the remaining part."
   ]
  },
  {
   "cell_type": "markdown",
   "metadata": {},
   "source": [
    "# Submission"
   ]
  },
  {
   "cell_type": "code",
   "execution_count": null,
   "metadata": {},
   "outputs": [],
   "source": []
  }
 ],
 "metadata": {
  "kernelspec": {
   "display_name": "Python 3",
   "language": "python",
   "name": "python3"
  },
  "language_info": {
   "codemirror_mode": {
    "name": "ipython",
    "version": 3
   },
   "file_extension": ".py",
   "mimetype": "text/x-python",
   "name": "python",
   "nbconvert_exporter": "python",
   "pygments_lexer": "ipython3",
   "version": "3.7.0"
  }
 },
 "nbformat": 4,
 "nbformat_minor": 2
}
