{
 "cells": [
  {
   "cell_type": "markdown",
   "metadata": {},
   "source": [
    "<center> \n",
    "    <h1> \n",
    "        Data Camp Project"
   ]
  },
  {
   "cell_type": "markdown",
   "metadata": {},
   "source": [
    " <center>\n",
    "    <h1> \n",
    "        Prediction of the engagement rate on Instagram"
   ]
  },
  {
   "cell_type": "markdown",
   "metadata": {},
   "source": [
    "# Table of content\n",
    "1. [Introduction](#Introduction)\n",
    "    - [Growing influence of Instagram](#See_later)\n",
    "    - [Definition of the problem : Quantify the reaction to a post](#See_later)\n",
    "2. [Data exploration](#Data_exploration)\n",
    "    - [Data Processing](#Data_Processing)\n",
    "    - [Top 50 : What are the kind of people in it ?](#See_later)\n",
    "    - [Impact of the day of the week ?](#See_later)\n",
    "    - [Correlation between the numbers of comments and likes](#See_later)\n",
    "3. [Workflow](#Workflow)\n",
    "4. [Submission](#Submission)"
   ]
  },
  {
   "cell_type": "markdown",
   "metadata": {},
   "source": [
    "# Import"
   ]
  },
  {
   "cell_type": "code",
   "execution_count": 2,
   "metadata": {},
   "outputs": [],
   "source": [
    "import numpy as np\n",
    "import pandas as pd\n",
    "import matplotlib.pyplot as plt\n",
    "%matplotlib inline\n",
    "import seaborn as sns\n",
    "sns.set()\n",
    "import re"
   ]
  },
  {
   "cell_type": "markdown",
   "metadata": {},
   "source": [
    "# Introduction"
   ]
  },
  {
   "cell_type": "markdown",
   "metadata": {},
   "source": [
    "## Growing influence of Instagram"
   ]
  },
  {
   "cell_type": "markdown",
   "metadata": {},
   "source": [
    "The leading treads towards social networking services had drawn massive\n",
    "public attention from last one and half decade. The amount of data that is\n",
    "uploaded to these social networking services is increasing day by day. So,\n",
    "there is massive requirement to study the highly dynamic behavior of users\n",
    "towards these services. Let's now focus of one the most used social networks : Instagram \n",
    "\n",
    "Instagram is an American photo and video sharing social networking service. In 2018, Instagram has reached 1 billion monthly active users. "
   ]
  },
  {
   "cell_type": "markdown",
   "metadata": {},
   "source": [
    "## Definition of the problem : Quantify the reaction to a post"
   ]
  },
  {
   "cell_type": "markdown",
   "metadata": {},
   "source": [
    "Aim : Predict the engagment rate by instagramers\n",
    "\n",
    "Scoring : \"Root mean square error\" which is defined by the following formula : \n",
    "\n",
    "    "
   ]
  },
  {
   "cell_type": "markdown",
   "metadata": {},
   "source": [
    "# Data exploration"
   ]
  },
  {
   "cell_type": "code",
   "execution_count": 3,
   "metadata": {},
   "outputs": [
    {
     "name": "stdout",
     "output_type": "stream",
     "text": [
      "(21899, 10)\n"
     ]
    },
    {
     "data": {
      "text/html": [
       "<div>\n",
       "<style scoped>\n",
       "    .dataframe tbody tr th:only-of-type {\n",
       "        vertical-align: middle;\n",
       "    }\n",
       "\n",
       "    .dataframe tbody tr th {\n",
       "        vertical-align: top;\n",
       "    }\n",
       "\n",
       "    .dataframe thead th {\n",
       "        text-align: right;\n",
       "    }\n",
       "</style>\n",
       "<table border=\"1\" class=\"dataframe\">\n",
       "  <thead>\n",
       "    <tr style=\"text-align: right;\">\n",
       "      <th></th>\n",
       "      <th>Name Account/Influencer</th>\n",
       "      <th>Professional Activity</th>\n",
       "      <th>Number of posts</th>\n",
       "      <th>Number of followers</th>\n",
       "      <th>Number of followings</th>\n",
       "      <th>Post description</th>\n",
       "      <th>Post number of comments</th>\n",
       "      <th>Post number of likes</th>\n",
       "      <th>Posting date</th>\n",
       "      <th>Media Type</th>\n",
       "    </tr>\n",
       "  </thead>\n",
       "  <tbody>\n",
       "    <tr>\n",
       "      <th>0</th>\n",
       "      <td>Cristiano Ronaldo</td>\n",
       "      <td>Footballeur</td>\n",
       "      <td>2 982 publications</td>\n",
       "      <td>253 140 888</td>\n",
       "      <td>459</td>\n",
       "      <td>Another week of playing inside and staying act...</td>\n",
       "      <td>22995</td>\n",
       "      <td>15 023 301</td>\n",
       "      <td>2020-04-11T09:02:26.000Z</td>\n",
       "      <td>Video</td>\n",
       "    </tr>\n",
       "    <tr>\n",
       "      <th>1</th>\n",
       "      <td>Cristiano Ronaldo</td>\n",
       "      <td>Footballeur</td>\n",
       "      <td>2 982 publications</td>\n",
       "      <td>253 140 888</td>\n",
       "      <td>459</td>\n",
       "      <td>We wish a Happy Easter to everyone 🌍❤️🙏\\n#stay...</td>\n",
       "      <td>62374</td>\n",
       "      <td>9 661 590</td>\n",
       "      <td>2020-04-12T13:18:16.000Z</td>\n",
       "      <td>Photo</td>\n",
       "    </tr>\n",
       "    <tr>\n",
       "      <th>2</th>\n",
       "      <td>Cristiano Ronaldo</td>\n",
       "      <td>Footballeur</td>\n",
       "      <td>2 982 publications</td>\n",
       "      <td>253 140 888</td>\n",
       "      <td>459</td>\n",
       "      <td>.\\n\\nKids, let the Dad do his work 🤷🏻‍♂️❤️😝 #s...</td>\n",
       "      <td>108402</td>\n",
       "      <td>43 462 083</td>\n",
       "      <td>2020-04-13T12:57:43.000Z</td>\n",
       "      <td>Video</td>\n",
       "    </tr>\n",
       "  </tbody>\n",
       "</table>\n",
       "</div>"
      ],
      "text/plain": [
       "  Name Account/Influencer Professional Activity     Number of posts  \\\n",
       "0       Cristiano Ronaldo           Footballeur  2 982 publications   \n",
       "1       Cristiano Ronaldo           Footballeur  2 982 publications   \n",
       "2       Cristiano Ronaldo           Footballeur  2 982 publications   \n",
       "\n",
       "  Number of followers Number of followings  \\\n",
       "0         253 140 888                  459   \n",
       "1         253 140 888                  459   \n",
       "2         253 140 888                  459   \n",
       "\n",
       "                                    Post description  Post number of comments  \\\n",
       "0  Another week of playing inside and staying act...                    22995   \n",
       "1  We wish a Happy Easter to everyone 🌍❤️🙏\\n#stay...                    62374   \n",
       "2  .\\n\\nKids, let the Dad do his work 🤷🏻‍♂️❤️😝 #s...                   108402   \n",
       "\n",
       "  Post number of likes              Posting date Media Type  \n",
       "0           15 023 301  2020-04-11T09:02:26.000Z      Video  \n",
       "1            9 661 590  2020-04-12T13:18:16.000Z      Photo  \n",
       "2           43 462 083  2020-04-13T12:57:43.000Z      Video  "
      ]
     },
     "execution_count": 3,
     "metadata": {},
     "output_type": "execute_result"
    }
   ],
   "source": [
    "df1 = pd.read_csv('Data/2.Final_dataset/posts_infos_influencers_world_0_10.csv')\n",
    "df2 = pd.read_csv('Data/2.Final_dataset/posts_infos_influencers_world_10_20.csv')\n",
    "df3 = pd.read_csv('Data/2.Final_dataset/posts_infos_influencers_world_20_30.csv')\n",
    "df4 = pd.read_csv('Data/2.Final_dataset/posts_infos_influencers_world_30_40.csv')\n",
    "\n",
    "df_1 = pd.concat([df1, df2], axis=0)\n",
    "df_2 = pd.concat([df3, df4], axis=0)\n",
    "\n",
    "df = pd.concat([df_1, df_2], axis=0)\n",
    "df = df.drop(columns = ['Links to publication', 'Links to profile', 'Account description',\n",
    "                       'Verified Status'])\n",
    "print(df.shape)\n",
    "df.head(3)"
   ]
  },
  {
   "cell_type": "code",
   "execution_count": 4,
   "metadata": {},
   "outputs": [],
   "source": [
    "df['Post number of likes'] = df['Post number of likes'].apply(lambda x : x.replace(\",\",\"\"))\n",
    "df['Post number of likes'] = df['Post number of likes'].apply(lambda x : x.replace(\" \",\"\")).astype(int)\n",
    "df['Post number of comments'] = df['Post number of comments'].astype(int)\n",
    "                                                              \n",
    "df['Number of followers'] = df['Number of followers'].apply(lambda x : x.replace(\",\",\"\"))\n",
    "df['Number of followers'] = df['Number of followers'].apply(lambda x : x.replace(\" \",\"\")).astype(int)      \n",
    "\n",
    "df['Number of posts'] = df['Number of posts'].apply(lambda x : x.replace(\"publications\",\"\"))\n",
    "df['Number of posts'] = df['Number of posts'].apply(lambda x : x.replace(\"posts\",\"\"))\n",
    "df['Number of posts'] = df['Number of posts'].apply(lambda x : x.replace(\",\",\"\"))\n",
    "df['Number of posts'] = df['Number of posts'].apply(lambda x : x.replace(\" \",\"\")).astype(int)\n",
    "\n",
    "#Count the number of words in the description\n",
    "df['Number of words'] = pd.Series([len(re.findall(r'\\w+', line)) for line in df['Post description']])"
   ]
  },
  {
   "cell_type": "code",
   "execution_count": 5,
   "metadata": {},
   "outputs": [
    {
     "data": {
      "text/plain": [
       "Name Account/Influencer    object\n",
       "Professional Activity      object\n",
       "Number of posts             int64\n",
       "Number of followers         int64\n",
       "Number of followings       object\n",
       "Post description           object\n",
       "Post number of comments     int64\n",
       "Post number of likes        int64\n",
       "Posting date               object\n",
       "Media Type                 object\n",
       "Number of words             int64\n",
       "dtype: object"
      ]
     },
     "execution_count": 5,
     "metadata": {},
     "output_type": "execute_result"
    }
   ],
   "source": [
    "df.dtypes"
   ]
  },
  {
   "cell_type": "markdown",
   "metadata": {},
   "source": [
    "## Top 50 : What are the kind of people in it ?"
   ]
  },
  {
   "cell_type": "markdown",
   "metadata": {},
   "source": [
    "Before going deeper in the analysis of the dataset, it seems relevant to clearly understand and visualize who are the instagramers inside these top 50. Therefore, we are going to perform a clustering algorithm in order to identify the different kind of instagramers."
   ]
  },
  {
   "cell_type": "code",
   "execution_count": 134,
   "metadata": {},
   "outputs": [],
   "source": [
    "df_clst = df.drop(columns = ['Post description', 'Posting date', 'Number of words', \n",
    "                            'Number of followings'])\n",
    "\n",
    "df_clst['Media Type'] = df_clst['Media Type'].replace({'Video':0, 'Photo':1})"
   ]
  },
  {
   "cell_type": "code",
   "execution_count": 135,
   "metadata": {},
   "outputs": [],
   "source": [
    "df_clst['Professional Activity'] = df_clst['Professional Activity'].apply(lambda x : x.lower())\n",
    "df_clst['Professional Activity'] = df_clst['Professional Activity'].apply(lambda x : x.replace(' et ',''))\n",
    "df_clst['Professional Activity'] = df_clst['Professional Activity'].apply(lambda x : x.replace('cienne','cien'))\n",
    "df_clst['Professional Activity'] = df_clst['Professional Activity'].apply(lambda x : x.replace('trice','teur'))\n",
    "df_clst['Professional Activity'] = df_clst['Professional Activity'].apply(lambda x : x.replace('comédienne',\n",
    "                                                                                               'acteur'))\n",
    "df_clst['Professional Activity'] = df_clst['Professional Activity'].replace({'footballeur':'Sportif',\n",
    "                                        'joueur de basket-ball':'Sportif','acteur':'Acteur/Actrice',\n",
    "                                        'acteurcatcheur professionnel':'Acteur/Actrice','magazine':'Marque',\n",
    "                                        'vêtements':'Marque','musicienacteur':'Musicien/Musicienne',\n",
    "                                        'club de football':'Marque', 'joueur de cricket':'Sportif',\n",
    "                                        'ex-footballeur':'Sportif','agence spatiale':'Marque',\n",
    "                                        'compétition de football':'Marque','acteurmusicien':'Acteur/Actrice',\n",
    "                                        'lingerie':'Marque','modèle':'Modèle','musicien':'Musicien/Musicienne',\n",
    "                                         'personnalité de téléréalitémodèle': 'Personnalité de téléréalité',\n",
    "                                         'personnalité de téléréalité':'Personnalité de téléréalité'})"
   ]
  },
  {
   "cell_type": "code",
   "execution_count": 142,
   "metadata": {},
   "outputs": [
    {
     "data": {
      "image/png": "[encoded data removed]",
      "text/plain": [
       "<Figure size 720x504 with 1 Axes>"
      ]
     },
     "metadata": {},
     "output_type": "display_data"
    }
   ],
   "source": [
    "activity = df_clst['Professional Activity'].value_counts() / df_clst.shape[0]\n",
    "\n",
    "plt.figure(figsize=(10,7))\n",
    "plt.pie(activity,\n",
    "        labels=activity.index,\n",
    "        autopct='%1.1f%%')\n",
    "plt.title(\"Distribution of the activities inside the top 40\")\n",
    "plt.axis('equal')\n",
    "plt.show()"
   ]
  },
  {
   "cell_type": "code",
   "execution_count": 93,
   "metadata": {},
   "outputs": [
    {
     "data": {
      "text/html": [
       "<div>\n",
       "<style scoped>\n",
       "    .dataframe tbody tr th:only-of-type {\n",
       "        vertical-align: middle;\n",
       "    }\n",
       "\n",
       "    .dataframe tbody tr th {\n",
       "        vertical-align: top;\n",
       "    }\n",
       "\n",
       "    .dataframe thead th {\n",
       "        text-align: right;\n",
       "    }\n",
       "</style>\n",
       "<table border=\"1\" class=\"dataframe\">\n",
       "  <thead>\n",
       "    <tr style=\"text-align: right;\">\n",
       "      <th></th>\n",
       "      <th>Number of posts</th>\n",
       "      <th>Number of followers</th>\n",
       "      <th>Post number of comments</th>\n",
       "      <th>Post number of likes</th>\n",
       "      <th>Prop. of photo</th>\n",
       "      <th>brand</th>\n",
       "      <th>modèle</th>\n",
       "      <th>musicien</th>\n",
       "      <th>personnalité de téléréalité</th>\n",
       "      <th>sportif</th>\n",
       "    </tr>\n",
       "    <tr>\n",
       "      <th>Name Account/Influencer</th>\n",
       "      <th></th>\n",
       "      <th></th>\n",
       "      <th></th>\n",
       "      <th></th>\n",
       "      <th></th>\n",
       "      <th></th>\n",
       "      <th></th>\n",
       "      <th></th>\n",
       "      <th></th>\n",
       "      <th></th>\n",
       "    </tr>\n",
       "  </thead>\n",
       "  <tbody>\n",
       "    <tr>\n",
       "      <th>Ariana Grande</th>\n",
       "      <td>4748.0</td>\n",
       "      <td>215459527.0</td>\n",
       "      <td>22226.574713</td>\n",
       "      <td>4.426239e+06</td>\n",
       "      <td>0.718391</td>\n",
       "      <td>0</td>\n",
       "      <td>0</td>\n",
       "      <td>1</td>\n",
       "      <td>0</td>\n",
       "      <td>0</td>\n",
       "    </tr>\n",
       "    <tr>\n",
       "      <th>Beyoncé</th>\n",
       "      <td>1939.0</td>\n",
       "      <td>160470430.0</td>\n",
       "      <td>22203.320000</td>\n",
       "      <td>3.835023e+06</td>\n",
       "      <td>0.796667</td>\n",
       "      <td>0</td>\n",
       "      <td>0</td>\n",
       "      <td>1</td>\n",
       "      <td>0</td>\n",
       "      <td>0</td>\n",
       "    </tr>\n",
       "    <tr>\n",
       "      <th>Cardi B</th>\n",
       "      <td>1315.0</td>\n",
       "      <td>80744703.0</td>\n",
       "      <td>20480.886054</td>\n",
       "      <td>6.895557e+06</td>\n",
       "      <td>0.530612</td>\n",
       "      <td>0</td>\n",
       "      <td>0</td>\n",
       "      <td>1</td>\n",
       "      <td>0</td>\n",
       "      <td>0</td>\n",
       "    </tr>\n",
       "  </tbody>\n",
       "</table>\n",
       "</div>"
      ],
      "text/plain": [
       "                         Number of posts  Number of followers  \\\n",
       "Name Account/Influencer                                         \n",
       "Ariana Grande                     4748.0          215459527.0   \n",
       "Beyoncé                           1939.0          160470430.0   \n",
       "Cardi B                           1315.0           80744703.0   \n",
       "\n",
       "                         Post number of comments  Post number of likes  \\\n",
       "Name Account/Influencer                                                  \n",
       "Ariana Grande                       22226.574713          4.426239e+06   \n",
       "Beyoncé                             22203.320000          3.835023e+06   \n",
       "Cardi B                             20480.886054          6.895557e+06   \n",
       "\n",
       "                         Prop. of photo  brand  modèle  musicien  \\\n",
       "Name Account/Influencer                                            \n",
       "Ariana Grande                  0.718391      0       0         1   \n",
       "Beyoncé                        0.796667      0       0         1   \n",
       "Cardi B                        0.530612      0       0         1   \n",
       "\n",
       "                         personnalité de téléréalité  sportif  \n",
       "Name Account/Influencer                                        \n",
       "Ariana Grande                                      0        0  \n",
       "Beyoncé                                            0        0  \n",
       "Cardi B                                            0        0  "
      ]
     },
     "execution_count": 93,
     "metadata": {},
     "output_type": "execute_result"
    }
   ],
   "source": [
    "df_clst = pd.concat([df_clst, pd.get_dummies(df_clst['Professional Activity'],drop_first=True)],axis=1)\n",
    "df_clst = df_clst.drop(columns = ['Professional Activity'])\n",
    "\n",
    "instagramers = df_clst.groupby(['Name Account/Influencer']).mean()\n",
    "instagramers = instagramers.rename(columns = {'Media Type':'Prop. of photo'})\n",
    "instagramers.head(3)"
   ]
  },
  {
   "cell_type": "markdown",
   "metadata": {},
   "source": [
    "## Impact of the day of the week ?"
   ]
  },
  {
   "cell_type": "code",
   "execution_count": 93,
   "metadata": {},
   "outputs": [],
   "source": [
    "df['Posting date'] = df['Posting date'].apply(lambda x : x.replace(':','-'))\n",
    "df['Posting date'] = df['Posting date'].apply(lambda x : x.replace('T','-'))\n",
    "df['Posting date'] = df['Posting date'].apply(lambda x : x.split('-'))\n",
    "\n",
    "df['year of posting'] = df['Posting date'].apply(lambda x : x[0]).astype(int)\n",
    "df['month of posting'] = df['Posting date'].apply(lambda x : x[1]).astype(int)\n",
    "df['day of posting'] = df['Posting date'].apply(lambda x : x[2]).astype(int)\n",
    "df['hour of posting'] = df['Posting date'].apply(lambda x : x[3]).astype(int)\n",
    "\n",
    "df = df.drop(columns = ['Posting date'])\n",
    "\n",
    "date_strings = []\n",
    "for i in range(df.shape[0]):\n",
    "    d = df.loc[i,'day of posting']\n",
    "    m = df.loc[i,'month of posting']\n",
    "    y =df.loc[i,'year of posting']\n",
    "    date_strings.append('{}-{}-{}'.format(d,m,y))\n",
    "df['Date of Posting'] = pd.Series([pd.to_datetime(date, format='%d-%m-%Y') for date in date_strings])\n",
    "\n",
    "df['Day of the week of Posting'] = df['Date of Posting'].dt.dayofweek"
   ]
  },
  {
   "cell_type": "code",
   "execution_count": 94,
   "metadata": {},
   "outputs": [
    {
     "data": {
      "image/png": "[encoded data removed]",
      "text/plain": [
       "<Figure size 936x288 with 1 Axes>"
      ]
     },
     "metadata": {
      "needs_background": "light"
     },
     "output_type": "display_data"
    }
   ],
   "source": [
    "plt.figure(figsize=(13,4))\n",
    "sns.barplot(x = 'Day of the week of Posting',y = 'Post number of likes', data = df)\n",
    "plt.ylabel('Number of likes')\n",
    "plt.xlabel('Day of the week')\n",
    "plt.show()"
   ]
  },
  {
   "cell_type": "markdown",
   "metadata": {},
   "source": [
    "## Correlation between the numbers of comments and likes"
   ]
  },
  {
   "cell_type": "code",
   "execution_count": 97,
   "metadata": {},
   "outputs": [
    {
     "data": {
      "image/png": "[encoded data removed]",
      "text/plain": [
       "<Figure size 936x288 with 1 Axes>"
      ]
     },
     "metadata": {
      "needs_background": "light"
     },
     "output_type": "display_data"
    }
   ],
   "source": [
    "plt.figure(figsize=(13,4))\n",
    "sns.lineplot(data=df[df['year of posting'] == 2016][[\"Post number of likes\",\"Post number of comments\"]])\n",
    "\n",
    "plt.show()"
   ]
  },
  {
   "cell_type": "markdown",
   "metadata": {},
   "source": [
    "# Workflow"
   ]
  },
  {
   "cell_type": "markdown",
   "metadata": {},
   "source": [
    "The work flow is composed of two essential elements that make up the submission: the feature extractor and the regressor. The first allows both the preparation of initial data and the creation of new variables. The second, on the other hand, allows a supervised learning model to be trained so that the engagement rate on Instagram's post can be correctly predicted. This model is trained on a part of the base obtained from the feature extractor output, then is evaluated on the remaining part."
   ]
  },
  {
   "cell_type": "code",
   "execution_count": null,
   "metadata": {},
   "outputs": [],
   "source": []
  },
  {
   "cell_type": "markdown",
   "metadata": {},
   "source": [
    "# Submission"
   ]
  },
  {
   "cell_type": "markdown",
   "metadata": {},
   "source": [
    "## First model without NLP"
   ]
  },
  {
   "cell_type": "markdown",
   "metadata": {},
   "source": [
    "To make a RAMP submission you will need to create a new directory within submissions, naming it as you wish, and a file named estimator.py within the new directory, e.g. submissions/my_new_sub/estimator.py\n",
    "\n",
    "Within estimator.py, define a function named get_estimator that returns a scikit-learn pipeline or estimator that performs the desired feature extraction and regression.\n",
    "\n",
    "For example, the estimator.py file below will perform the workflow detailed above"
   ]
  },
  {
   "cell_type": "code",
   "execution_count": 35,
   "metadata": {},
   "outputs": [],
   "source": [
    "from sklearn.impute import SimpleImputer\n",
    "from sklearn.compose import ColumnTransformer, make_column_transformer\n",
    "from sklearn.pipeline import make_pipeline\n",
    "from sklearn.preprocessing import FunctionTransformer, OrdinalEncoder, StandardScaler, OneHotEncoder\n",
    "from sklearn.pipeline import Pipeline\n",
    "from sklearn.ensemble import RandomForestRegressor\n",
    "\n",
    "def processing_data(df):\n",
    "    \n",
    "    X = df.copy()\n",
    "    \n",
    "    X['Number of followings'] = X['Number of followings'].astype(int)\n",
    "    X['Number of posts'] = X['Number of posts'].apply(lambda x : x.replace(\"publications\",\"\")).apply(lambda x : x.replace(\" \",\"\")).astype(int)\n",
    "    X['Post number of likes'] = X['Post number of likes'].apply(lambda x : x.replace(\" \",\"\")).astype(int)\n",
    "    X['Media Type'] = df['Media Type'].replace({'Photo':0, 'Video':1})\n",
    "\n",
    "    X['Number of words'] = pd.Series([len(re.findall(r'\\w+', line)) for line in X['Post description']])\n",
    "    \n",
    "    X = X[['Number of followings','Number of posts','Post number of likes','Media Type','Number of words']]\n",
    "    \n",
    "    return X.values\n",
    "\n",
    "def processing_date(df):\n",
    "    \n",
    "    X = df.copy()\n",
    "    \n",
    "    X['Posting date'] = X['Posting date'].apply(lambda x : x.replace(':','-'))\n",
    "    X['Posting date'] = X['Posting date'].apply(lambda x : x.replace('T','-'))\n",
    "    X['Posting date'] = X['Posting date'].apply(lambda x : x.split('-'))\n",
    "\n",
    "    X['y'] = X['Posting date'].apply(lambda x : x[0]).astype(int)\n",
    "    X['m'] = X['Posting date'].apply(lambda x : x[1]).astype(int)\n",
    "    X['d'] = X['Posting date'].apply(lambda x : x[2]).astype(int)\n",
    "    X['h'] = X['Posting date'].apply(lambda x : x[3]).astype(int)\n",
    "    \n",
    "    date_strings = []\n",
    "    for i in range(df.shape[0]):\n",
    "        d, m, y = X.loc[i,'d'], X.loc[i,'m'], X.loc[i,'y']\n",
    "        date_strings.append('{}-{}-{}'.format(d,m,y))\n",
    "    X['Date of Posting'] = pd.Series([pd.to_datetime(date, format='%d-%m-%Y') for date in date_strings])\n",
    "    X['day_week'] = X['Date of Posting'].dt.dayofweek\n",
    "    \n",
    "    x_hour,x_day,x_month,x_year = np.array([X['h']]),np.array([X['d']]),np.array([X['m']]),np.array([X['y']])\n",
    "    x_day_week = np.array([X['day_week']])\n",
    "    \n",
    "    return np.array([x_hour, x_day, x_month, x_year, x_day_week]).T.reshape(X.shape[0],5)\n",
    "    \n",
    "transformer_var = FunctionTransformer(\n",
    "    lambda df: processing_data(df)\n",
    ")\n",
    "transformer_date = FunctionTransformer(\n",
    "    lambda df: processing_date(df)\n",
    ")\n",
    "\n",
    "cols = ['Nationality', 'Brand']\n",
    "\n",
    "transformer = make_column_transformer(\n",
    "    (transformer_date, ['Posting date']),\n",
    "    (transformer_date, ['Number of followings','Number of posts','Post number of likes',\n",
    "                        'Media Type', 'Post description']),\n",
    "    ('passthrough', cols),\n",
    ")\n",
    "\n",
    "pipe = make_pipeline(\n",
    "    transformer,\n",
    "    RandomForestRegressor()\n",
    ")\n",
    "    \n",
    "def get_estimator():\n",
    "    return pipe"
   ]
  },
  {
   "cell_type": "code",
   "execution_count": null,
   "metadata": {},
   "outputs": [],
   "source": []
  }
 ],
 "metadata": {
  "kernelspec": {
   "display_name": "Python 3",
   "language": "python",
   "name": "python3"
  },
  "language_info": {
   "codemirror_mode": {
    "name": "ipython",
    "version": 3
   },
   "file_extension": ".py",
   "mimetype": "text/x-python",
   "name": "python",
   "nbconvert_exporter": "python",
   "pygments_lexer": "ipython3",
   "version": "3.7.0"
  }
 },
 "nbformat": 4,
 "nbformat_minor": 2
}
