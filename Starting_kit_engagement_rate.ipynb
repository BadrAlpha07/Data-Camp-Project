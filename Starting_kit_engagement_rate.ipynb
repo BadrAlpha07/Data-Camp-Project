{
 "cells": [
  {
   "cell_type": "markdown",
   "metadata": {},
   "source": [
    "<center> \n",
    "    <h1> \n",
    "        Data Camp Project"
   ]
  },
  {
   "cell_type": "markdown",
   "metadata": {},
   "source": [
    " <center>\n",
    "    <h1> \n",
    "        Prediction of the engagement rate on Instagram"
   ]
  },
  {
   "cell_type": "markdown",
   "metadata": {},
   "source": [
    "# Table of content\n",
    "1. [Introduction](#Introduction)\n",
    "    - [Growing influence of Instagram](#See_later)\n",
    "    - [Definition of the problem : Quantify the reaction to a post](#See_later)\n",
    "2. [Data exploration](#Data_exploration)\n",
    "    - [Data Processing](#Data_Processing)\n",
    "    - [See later](#See_later)\n",
    "    - [See later](#See_later)\n",
    "3. [Workflow](#Workflow)\n",
    "4. [Submission](#Submission)"
   ]
  },
  {
   "cell_type": "markdown",
   "metadata": {},
   "source": [
    "# Import"
   ]
  },
  {
   "cell_type": "code",
   "execution_count": 39,
   "metadata": {},
   "outputs": [],
   "source": [
    "import numpy as np\n",
    "import pandas as pd\n",
    "import matplotlib.pyplot as plt\n",
    "%matplotlib inline\n",
    "import seaborn as sns\n",
    "sns.set()\n",
    "import re"
   ]
  },
  {
   "cell_type": "markdown",
   "metadata": {},
   "source": [
    "# Introduction"
   ]
  },
  {
   "cell_type": "markdown",
   "metadata": {},
   "source": [
    "## Growing influence of Instagram"
   ]
  },
  {
   "cell_type": "markdown",
   "metadata": {},
   "source": [
    "The leading treads towards social networking services had drawn massive\n",
    "public attention from last one and half decade. The amount of data that is\n",
    "uploaded to these social networking services is increasing day by day. So,\n",
    "there is massive requirement to study the highly dynamic behavior of users\n",
    "towards these services. Let's now focus of one the most used social networks : Instagram \n",
    "\n",
    "Instagram is an American photo and video sharing social networking service. In 2018, Instagram has reached 1 billion monthly active users. "
   ]
  },
  {
   "cell_type": "markdown",
   "metadata": {},
   "source": [
    "## Definition of the problem : Quantify the reaction to a post"
   ]
  },
  {
   "cell_type": "markdown",
   "metadata": {},
   "source": [
    "Aim : Predict the engagment rate by instagramers\n",
    "\n",
    "Scoring : \"Root mean square error\" which is defined by the following formula : \n",
    "\n",
    "    "
   ]
  },
  {
   "cell_type": "markdown",
   "metadata": {},
   "source": [
    "# Data exploration"
   ]
  },
  {
   "cell_type": "code",
   "execution_count": 41,
   "metadata": {},
   "outputs": [
    {
     "data": {
      "text/plain": [
       "(1072, 17)"
      ]
     },
     "execution_count": 41,
     "metadata": {},
     "output_type": "execute_result"
    }
   ],
   "source": [
    "df = pd.read_csv('Data/cr7.csv')\n",
    "df = df = df.iloc[:1072,:]\n",
    "df.shape"
   ]
  },
  {
   "cell_type": "markdown",
   "metadata": {},
   "source": [
    "## Data Processing"
   ]
  },
  {
   "cell_type": "code",
   "execution_count": 42,
   "metadata": {},
   "outputs": [
    {
     "data": {
      "text/html": [
       "<div>\n",
       "<style scoped>\n",
       "    .dataframe tbody tr th:only-of-type {\n",
       "        vertical-align: middle;\n",
       "    }\n",
       "\n",
       "    .dataframe tbody tr th {\n",
       "        vertical-align: top;\n",
       "    }\n",
       "\n",
       "    .dataframe thead th {\n",
       "        text-align: right;\n",
       "    }\n",
       "</style>\n",
       "<table border=\"1\" class=\"dataframe\">\n",
       "  <thead>\n",
       "    <tr style=\"text-align: right;\">\n",
       "      <th></th>\n",
       "      <th>Links to profile</th>\n",
       "      <th>Links to publication_gen_info</th>\n",
       "      <th>Name Account/Influencer</th>\n",
       "      <th>Professional Activity</th>\n",
       "      <th>Nationality</th>\n",
       "      <th>Brand</th>\n",
       "      <th>Account description</th>\n",
       "      <th>Number of posts</th>\n",
       "      <th>Number of followers</th>\n",
       "      <th>Number of followings</th>\n",
       "      <th>Verified Status</th>\n",
       "      <th>Links to publication_pub_info</th>\n",
       "      <th>Post description</th>\n",
       "      <th>Post number of comments</th>\n",
       "      <th>Post number of likes</th>\n",
       "      <th>Posting date</th>\n",
       "      <th>Media Type</th>\n",
       "    </tr>\n",
       "  </thead>\n",
       "  <tbody>\n",
       "    <tr>\n",
       "      <th>0</th>\n",
       "      <td>https://www.instagram.com/cristiano/</td>\n",
       "      <td>https://www.instagram.com/p/-1JhCoBpan/</td>\n",
       "      <td>Cristiano Ronaldo</td>\n",
       "      <td>Footballeur</td>\n",
       "      <td>Portugal</td>\n",
       "      <td>Non</td>\n",
       "      <td>Cristiano Ronaldo</td>\n",
       "      <td>2 982 publications</td>\n",
       "      <td>252 764 771</td>\n",
       "      <td>459</td>\n",
       "      <td>Vérifié</td>\n",
       "      <td>h</td>\n",
       "      <td>Dedication ✌️👌👍💪🏽☀️</td>\n",
       "      <td>5493.0</td>\n",
       "      <td>887 059</td>\n",
       "      <td>2015-12-03T12:56:22.000Z</td>\n",
       "      <td>Photo</td>\n",
       "    </tr>\n",
       "    <tr>\n",
       "      <th>1</th>\n",
       "      <td>https://www.instagram.com/cristiano/</td>\n",
       "      <td>https://www.instagram.com/p/-1dEuSBpet/</td>\n",
       "      <td>Cristiano Ronaldo</td>\n",
       "      <td>Footballeur</td>\n",
       "      <td>Portugal</td>\n",
       "      <td>Non</td>\n",
       "      <td>Cristiano Ronaldo</td>\n",
       "      <td>2 982 publications</td>\n",
       "      <td>252 764 771</td>\n",
       "      <td>459</td>\n",
       "      <td>Vérifié</td>\n",
       "      <td>h</td>\n",
       "      <td>Job done!👌👔☀️ @sacoorbrothers</td>\n",
       "      <td>8546.0</td>\n",
       "      <td>1 064 362</td>\n",
       "      <td>2015-12-03T15:47:15.000Z</td>\n",
       "      <td>Photo</td>\n",
       "    </tr>\n",
       "  </tbody>\n",
       "</table>\n",
       "</div>"
      ],
      "text/plain": [
       "                       Links to profile  \\\n",
       "0  https://www.instagram.com/cristiano/   \n",
       "1  https://www.instagram.com/cristiano/   \n",
       "\n",
       "             Links to publication_gen_info Name Account/Influencer  \\\n",
       "0  https://www.instagram.com/p/-1JhCoBpan/       Cristiano Ronaldo   \n",
       "1  https://www.instagram.com/p/-1dEuSBpet/       Cristiano Ronaldo   \n",
       "\n",
       "  Professional Activity Nationality Brand Account description  \\\n",
       "0           Footballeur    Portugal   Non   Cristiano Ronaldo   \n",
       "1           Footballeur    Portugal   Non   Cristiano Ronaldo   \n",
       "\n",
       "      Number of posts Number of followers  Number of followings  \\\n",
       "0  2 982 publications         252 764 771                   459   \n",
       "1  2 982 publications         252 764 771                   459   \n",
       "\n",
       "  Verified Status Links to publication_pub_info  \\\n",
       "0         Vérifié                             h   \n",
       "1         Vérifié                             h   \n",
       "\n",
       "                Post description  Post number of comments  \\\n",
       "0            Dedication ✌️👌👍💪🏽☀️                   5493.0   \n",
       "1  Job done!👌👔☀️ @sacoorbrothers                   8546.0   \n",
       "\n",
       "  Post number of likes              Posting date Media Type  \n",
       "0              887 059  2015-12-03T12:56:22.000Z      Photo  \n",
       "1            1 064 362  2015-12-03T15:47:15.000Z      Photo  "
      ]
     },
     "execution_count": 42,
     "metadata": {},
     "output_type": "execute_result"
    }
   ],
   "source": [
    "df.head(2)"
   ]
  },
  {
   "cell_type": "code",
   "execution_count": 43,
   "metadata": {},
   "outputs": [],
   "source": [
    "df['Post number of likes'] = df['Post number of likes'].apply(lambda x : x.replace(\" \",\"\")).astype(int)\n",
    "df['Brand'] = df['Brand'].replace({'Non':0})\n",
    "df['Verified Status'] = df['Verified Status'].replace({'Vérifié':0})\n",
    "df['Media Type'] = df['Media Type'].replace({'Photo':0, 'Video':1})\n",
    "\n",
    "#Count the number of words in the description\n",
    "df['Number of words'] = pd.Series([len(re.findall(r'\\w+', line)) for line in df['Post description']])"
   ]
  },
  {
   "cell_type": "code",
   "execution_count": 44,
   "metadata": {},
   "outputs": [],
   "source": [
    "df['Posting date'] = df['Posting date'].apply(lambda x : x.replace(':','-'))\n",
    "df['Posting date'] = df['Posting date'].apply(lambda x : x.replace('T','-'))\n",
    "df['Posting date'] = df['Posting date'].apply(lambda x : x.split('-'))\n",
    "\n",
    "df['year of posting'] = df['Posting date'].apply(lambda x : x[0])\n",
    "df['month of posting'] = df['Posting date'].apply(lambda x : x[1])\n",
    "df['day of posting'] = df['Posting date'].apply(lambda x : x[2])\n",
    "df['hour of posting'] = df['Posting date'].apply(lambda x : x[3])\n",
    "\n",
    "df = df.drop(columns = ['Posting date'])"
   ]
  },
  {
   "cell_type": "code",
   "execution_count": 45,
   "metadata": {},
   "outputs": [
    {
     "data": {
      "text/html": [
       "<div>\n",
       "<style scoped>\n",
       "    .dataframe tbody tr th:only-of-type {\n",
       "        vertical-align: middle;\n",
       "    }\n",
       "\n",
       "    .dataframe tbody tr th {\n",
       "        vertical-align: top;\n",
       "    }\n",
       "\n",
       "    .dataframe thead th {\n",
       "        text-align: right;\n",
       "    }\n",
       "</style>\n",
       "<table border=\"1\" class=\"dataframe\">\n",
       "  <thead>\n",
       "    <tr style=\"text-align: right;\">\n",
       "      <th></th>\n",
       "      <th>Links to profile</th>\n",
       "      <th>Links to publication_gen_info</th>\n",
       "      <th>Name Account/Influencer</th>\n",
       "      <th>Professional Activity</th>\n",
       "      <th>Nationality</th>\n",
       "      <th>Brand</th>\n",
       "      <th>Account description</th>\n",
       "      <th>Number of posts</th>\n",
       "      <th>Number of followers</th>\n",
       "      <th>Number of followings</th>\n",
       "      <th>...</th>\n",
       "      <th>Links to publication_pub_info</th>\n",
       "      <th>Post description</th>\n",
       "      <th>Post number of comments</th>\n",
       "      <th>Post number of likes</th>\n",
       "      <th>Media Type</th>\n",
       "      <th>Number of words</th>\n",
       "      <th>year of posting</th>\n",
       "      <th>month of posting</th>\n",
       "      <th>day of posting</th>\n",
       "      <th>hour of posting</th>\n",
       "    </tr>\n",
       "  </thead>\n",
       "  <tbody>\n",
       "    <tr>\n",
       "      <th>0</th>\n",
       "      <td>https://www.instagram.com/cristiano/</td>\n",
       "      <td>https://www.instagram.com/p/-1JhCoBpan/</td>\n",
       "      <td>Cristiano Ronaldo</td>\n",
       "      <td>Footballeur</td>\n",
       "      <td>Portugal</td>\n",
       "      <td>0</td>\n",
       "      <td>Cristiano Ronaldo</td>\n",
       "      <td>2 982 publications</td>\n",
       "      <td>252 764 771</td>\n",
       "      <td>459</td>\n",
       "      <td>...</td>\n",
       "      <td>h</td>\n",
       "      <td>Dedication ✌️👌👍💪🏽☀️</td>\n",
       "      <td>5493.0</td>\n",
       "      <td>887059</td>\n",
       "      <td>0</td>\n",
       "      <td>1</td>\n",
       "      <td>2015</td>\n",
       "      <td>12</td>\n",
       "      <td>03</td>\n",
       "      <td>12</td>\n",
       "    </tr>\n",
       "    <tr>\n",
       "      <th>1</th>\n",
       "      <td>https://www.instagram.com/cristiano/</td>\n",
       "      <td>https://www.instagram.com/p/-1dEuSBpet/</td>\n",
       "      <td>Cristiano Ronaldo</td>\n",
       "      <td>Footballeur</td>\n",
       "      <td>Portugal</td>\n",
       "      <td>0</td>\n",
       "      <td>Cristiano Ronaldo</td>\n",
       "      <td>2 982 publications</td>\n",
       "      <td>252 764 771</td>\n",
       "      <td>459</td>\n",
       "      <td>...</td>\n",
       "      <td>h</td>\n",
       "      <td>Job done!👌👔☀️ @sacoorbrothers</td>\n",
       "      <td>8546.0</td>\n",
       "      <td>1064362</td>\n",
       "      <td>0</td>\n",
       "      <td>3</td>\n",
       "      <td>2015</td>\n",
       "      <td>12</td>\n",
       "      <td>03</td>\n",
       "      <td>15</td>\n",
       "    </tr>\n",
       "  </tbody>\n",
       "</table>\n",
       "<p>2 rows × 21 columns</p>\n",
       "</div>"
      ],
      "text/plain": [
       "                       Links to profile  \\\n",
       "0  https://www.instagram.com/cristiano/   \n",
       "1  https://www.instagram.com/cristiano/   \n",
       "\n",
       "             Links to publication_gen_info Name Account/Influencer  \\\n",
       "0  https://www.instagram.com/p/-1JhCoBpan/       Cristiano Ronaldo   \n",
       "1  https://www.instagram.com/p/-1dEuSBpet/       Cristiano Ronaldo   \n",
       "\n",
       "  Professional Activity Nationality  Brand Account description  \\\n",
       "0           Footballeur    Portugal      0   Cristiano Ronaldo   \n",
       "1           Footballeur    Portugal      0   Cristiano Ronaldo   \n",
       "\n",
       "      Number of posts Number of followers  Number of followings  ...  \\\n",
       "0  2 982 publications         252 764 771                   459  ...   \n",
       "1  2 982 publications         252 764 771                   459  ...   \n",
       "\n",
       "   Links to publication_pub_info               Post description  \\\n",
       "0                              h            Dedication ✌️👌👍💪🏽☀️   \n",
       "1                              h  Job done!👌👔☀️ @sacoorbrothers   \n",
       "\n",
       "  Post number of comments  Post number of likes  Media Type  Number of words  \\\n",
       "0                  5493.0                887059           0                1   \n",
       "1                  8546.0               1064362           0                3   \n",
       "\n",
       "   year of posting month of posting day of posting hour of posting  \n",
       "0             2015               12             03              12  \n",
       "1             2015               12             03              15  \n",
       "\n",
       "[2 rows x 21 columns]"
      ]
     },
     "execution_count": 45,
     "metadata": {},
     "output_type": "execute_result"
    }
   ],
   "source": [
    "df.head(2)"
   ]
  },
  {
   "cell_type": "code",
   "execution_count": 45,
   "metadata": {},
   "outputs": [],
   "source": [
    "date_strings = []\n",
    "for i in range(df.shape[0]):\n",
    "    d = df.loc[i,'day of posting']\n",
    "    m = df.loc[i,'month of posting']\n",
    "    y =df.loc[i,'year of posting']\n",
    "    date_strings.append('{}-{}-{}'.format(d,m,y))\n",
    "df['Date of Posting'] = pd.Series([pd.to_datetime(date, format='%d-%m-%Y') for date in date_strings])\n",
    "\n",
    "df['Day of the week of Posting'] = df['Date of Posting'].dt.dayofweek"
   ]
  },
  {
   "cell_type": "code",
   "execution_count": 50,
   "metadata": {},
   "outputs": [
    {
     "data": {
      "image/png": "[encoded data removed]",
      "text/plain": [
       "<Figure size 936x288 with 1 Axes>"
      ]
     },
     "metadata": {
      "needs_background": "light"
     },
     "output_type": "display_data"
    }
   ],
   "source": [
    "plt.figure(figsize=(13,4))\n",
    "sns.barplot(x = 'Day of the week of Posting',y = 'Post number of likes', data = df)\n",
    "plt.ylabel('Number of likes')\n",
    "plt.xlabel('Day of the week')\n",
    "plt.show()"
   ]
  },
  {
   "cell_type": "markdown",
   "metadata": {},
   "source": [
    "# Workflow"
   ]
  },
  {
   "cell_type": "markdown",
   "metadata": {},
   "source": [
    "The work flow is composed of two essential elements that make up the submission: the feature extractor and the regressor. The first allows both the preparation of initial data and the creation of new variables. The second, on the other hand, allows a supervised learning model to be trained so that the engagement rate on Instagram's post can be correctly predicted. This model is trained on a part of the base obtained from the feature extractor output, then is evaluated on the remaining part."
   ]
  },
  {
   "cell_type": "markdown",
   "metadata": {},
   "source": [
    "# Submission"
   ]
  },
  {
   "cell_type": "code",
   "execution_count": 46,
   "metadata": {},
   "outputs": [],
   "source": [
    "import pandas as pd\n",
    "import numpy as np\n",
    "from sklearn.impute import SimpleImputer\n",
    "from sklearn.compose import ColumnTransformer\n",
    "from sklearn.pipeline import make_pipeline\n",
    "from sklearn.preprocessing import FunctionTransformer, OrdinalEncoder, StandardScaler, OneHotEncoder\n",
    "from sklearn.pipeline import Pipeline\n",
    "\n",
    "def processing_data(X):\n",
    "    \n",
    "    X['Post number of likes'] = X['Post number of likes'].apply(lambda x : x.replace(\" \",\"\")).astype(int)\n",
    "    X['Media Type'] = df['Media Type'].replace({'Photo':0, 'Video':1})\n",
    "\n",
    "    X['Number of words'] = pd.Series([len(re.findall(r'\\w+', line)) for line in X['Post description']])\n",
    "    \n",
    "    X['Posting date'] = X['Posting date'].apply(lambda x : x.replace(':','-'))\n",
    "    X['Posting date'] = X['Posting date'].apply(lambda x : x.replace('T','-'))\n",
    "    X['Posting date'] = X['Posting date'].apply(lambda x : x.split('-'))\n",
    "\n",
    "    X['year of posting'] = X['Posting date'].apply(lambda x : x[0])\n",
    "    X['month of posting'] = X['Posting date'].apply(lambda x : x[1])\n",
    "    X['day of posting'] = X['Posting date'].apply(lambda x : x[2])\n",
    "    X['hour of posting'] = X['Posting date'].apply(lambda x : x[3])\n",
    "    \n",
    "    date_strings = []\n",
    "    for i in range(df.shape[0]):\n",
    "        d, m, y = X.loc[i,'day of posting'], X.loc[i,'month of posting'], X.loc[i,'year of posting']\n",
    "        date_strings.append('{}-{}-{}'.format(d,m,y))\n",
    "    X['Date of Posting'] = pd.Series([pd.to_datetime(date, format='%d-%m-%Y') for date in date_strings])\n",
    "    X['Day of the week of Posting'] = X['Date of Posting'].dt.dayofweek\n",
    "    "
   ]
  },
  {
   "cell_type": "code",
   "execution_count": null,
   "metadata": {},
   "outputs": [],
   "source": []
  }
 ],
 "metadata": {
  "kernelspec": {
   "display_name": "Python 3",
   "language": "python",
   "name": "python3"
  },
  "language_info": {
   "codemirror_mode": {
    "name": "ipython",
    "version": 3
   },
   "file_extension": ".py",
   "mimetype": "text/x-python",
   "name": "python",
   "nbconvert_exporter": "python",
   "pygments_lexer": "ipython3",
   "version": "3.7.0"
  }
 },
 "nbformat": 4,
 "nbformat_minor": 2
}
